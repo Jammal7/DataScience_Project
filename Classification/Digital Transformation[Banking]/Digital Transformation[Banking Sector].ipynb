{
 "cells": [
  {
   "cell_type": "markdown",
   "id": "b4a595d4",
   "metadata": {},
   "source": [
    "# Digital Transformation in Banking Sector\n",
    "\n",
    "## 1. Problem Definition\n",
    "In a statement,\n",
    "> Build a ML Model to perform focused digital marketing by predicting the potential customers who will convert from Liability customers to asset customers.\n",
    "\n",
    "## 2. Data\n",
    "The original data came from the Cleavland data from the UCI Machine Learning Repository. https://archive.ics.uci.edu/ml/datasets/heart+Disease\n",
    "\n",
    "## 3. Evaluation\n",
    "> If we can reach 90% across precision, Recall, and AUC Score at predicting the potential customers who will convert from Liability customers to asset customers.\n",
    "\n",
    "## 4. Features\n",
    "Here, we get to see different information about each of the features in the data.\n",
    "\n",
    "**Create data dictionary**\n",
    "\n",
    "1. ID: Customer ID\n",
    "2. Age Customer’s approximate age.\n",
    "3. CustomerSince: Customer of the bank since. [unit is masked]\n",
    "4. HighestSpend: Customer’s highest spend so far in one transaction. [unit is masked]\n",
    "5. ZipCode: Customer’s zip code.\n",
    "6. HiddenScore: A score associated to the customer which is masked by the bank as an IP.\n",
    "7. MonthlyAverageSpend: Customer’s monthly average spend so far. [unit is masked]\n",
    "8. Level: A level associated to the customer which is masked by the bank as an IP.\n",
    "9. Mortgage: Customer’s mortgage. [unit is masked]\n",
    "10. Security: Customer’s security asset with the bank. [unit is masked]\n",
    "11. FixedDepositAccount: Customer’s fixed deposit account with the bank. [unit is masked]\n",
    "12. InternetBanking: if the customer uses internet banking.\n",
    "13. CreditCard: if the customer uses bank’s credit card.\n",
    "14. LoanOnCard: if the customer has a loan on credit card"
   ]
  },
  {
   "cell_type": "code",
   "execution_count": 1,
   "id": "3bdd200f",
   "metadata": {},
   "outputs": [],
   "source": [
    "import pandas as pd\n",
    "import numpy as np\n",
    "%matplotlib inline \n",
    "import seaborn as sns\n",
    "import matplotlib.pyplot as plt"
   ]
  },
  {
   "cell_type": "code",
   "execution_count": 2,
   "id": "ee8c982c",
   "metadata": {},
   "outputs": [],
   "source": [
    "data1 = pd.read_csv(\"data/Data1.csv\")\n",
    "data2 = pd.read_csv(\"data/Data2.csv\")"
   ]
  },
  {
   "cell_type": "code",
   "execution_count": 4,
   "id": "0e59607d",
   "metadata": {},
   "outputs": [
    {
     "name": "stdout",
     "output_type": "stream",
     "text": [
      "(5000, 8)\n",
      "(5000, 7)\n"
     ]
    }
   ],
   "source": [
    "print(data1.shape)\n",
    "print(data2.shape)"
   ]
  },
  {
   "cell_type": "code",
   "execution_count": 5,
   "id": "3827bae3",
   "metadata": {},
   "outputs": [
    {
     "data": {
      "text/plain": [
       "(5000, 14)"
      ]
     },
     "execution_count": 5,
     "metadata": {},
     "output_type": "execute_result"
    }
   ],
   "source": [
    "df = data1.merge(data2, how='inner', on='ID')\n",
    "df.shape"
   ]
  },
  {
   "cell_type": "code",
   "execution_count": null,
   "id": "49ce7d41",
   "metadata": {},
   "outputs": [],
   "source": []
  }
 ],
 "metadata": {
  "kernelspec": {
   "display_name": "Python 3",
   "language": "python",
   "name": "python3"
  },
  "language_info": {
   "codemirror_mode": {
    "name": "ipython",
    "version": 3
   },
   "file_extension": ".py",
   "mimetype": "text/x-python",
   "name": "python",
   "nbconvert_exporter": "python",
   "pygments_lexer": "ipython3",
   "version": "3.8.8"
  }
 },
 "nbformat": 4,
 "nbformat_minor": 5
}
