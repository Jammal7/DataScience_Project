{
 "cells": [
  {
   "cell_type": "markdown",
   "id": "8d8ea88a",
   "metadata": {},
   "source": [
    "## Predict the Customer Churn of a telcom company and find out the key drivers that lead to churn\n",
    "\n",
    "* Customer Churn is the percentage of customers who stop doing business with an entity."
   ]
  },
  {
   "cell_type": "code",
   "execution_count": 1,
   "id": "6bcf3e4e",
   "metadata": {},
   "outputs": [],
   "source": [
    "import pandas as pd\n",
    "import numpy as np\n",
    "%matplotlib inline\n",
    "import seaborn as sns\n",
    "import matplotlib.pyplot as plt\n",
    "import os"
   ]
  },
  {
   "cell_type": "code",
   "execution_count": 2,
   "id": "09c20236",
   "metadata": {},
   "outputs": [],
   "source": [
    "df_trainer = pd.read_csv('Telecom_Train.csv')\n",
    "df_tester = pd.read_csv('Telecom_Test.csv')"
   ]
  },
  {
   "cell_type": "code",
   "execution_count": 3,
   "id": "68c4f506",
   "metadata": {},
   "outputs": [
    {
     "data": {
      "text/plain": [
       "(3333, 21)"
      ]
     },
     "execution_count": 3,
     "metadata": {},
     "output_type": "execute_result"
    }
   ],
   "source": [
    "df_trainer.shape"
   ]
  },
  {
   "cell_type": "code",
   "execution_count": 4,
   "id": "f92919d4",
   "metadata": {},
   "outputs": [
    {
     "data": {
      "text/plain": [
       "(1667, 21)"
      ]
     },
     "execution_count": 4,
     "metadata": {},
     "output_type": "execute_result"
    }
   ],
   "source": [
    "df_tester.shape"
   ]
  },
  {
   "cell_type": "code",
   "execution_count": 7,
   "id": "1c607f85",
   "metadata": {},
   "outputs": [
    {
     "data": {
      "text/plain": [
       "1.9994001199760048"
      ]
     },
     "execution_count": 7,
     "metadata": {},
     "output_type": "execute_result"
    }
   ],
   "source": [
    "df_trainer.shape[0]/df_tester.shape[0]"
   ]
  },
  {
   "cell_type": "code",
   "execution_count": 9,
   "id": "df7e750d",
   "metadata": {},
   "outputs": [
    {
     "data": {
      "text/html": [
       "<div>\n",
       "<style scoped>\n",
       "    .dataframe tbody tr th:only-of-type {\n",
       "        vertical-align: middle;\n",
       "    }\n",
       "\n",
       "    .dataframe tbody tr th {\n",
       "        vertical-align: top;\n",
       "    }\n",
       "\n",
       "    .dataframe thead th {\n",
       "        text-align: right;\n",
       "    }\n",
       "</style>\n",
       "<table border=\"1\" class=\"dataframe\">\n",
       "  <thead>\n",
       "    <tr style=\"text-align: right;\">\n",
       "      <th></th>\n",
       "      <th>0</th>\n",
       "      <th>1</th>\n",
       "      <th>2</th>\n",
       "      <th>3</th>\n",
       "      <th>4</th>\n",
       "    </tr>\n",
       "  </thead>\n",
       "  <tbody>\n",
       "    <tr>\n",
       "      <th>Unnamed: 0</th>\n",
       "      <td>1</td>\n",
       "      <td>2</td>\n",
       "      <td>3</td>\n",
       "      <td>4</td>\n",
       "      <td>5</td>\n",
       "    </tr>\n",
       "    <tr>\n",
       "      <th>state</th>\n",
       "      <td>KS</td>\n",
       "      <td>OH</td>\n",
       "      <td>NJ</td>\n",
       "      <td>OH</td>\n",
       "      <td>OK</td>\n",
       "    </tr>\n",
       "    <tr>\n",
       "      <th>account_length</th>\n",
       "      <td>128</td>\n",
       "      <td>107</td>\n",
       "      <td>137</td>\n",
       "      <td>84</td>\n",
       "      <td>75</td>\n",
       "    </tr>\n",
       "    <tr>\n",
       "      <th>area_code</th>\n",
       "      <td>area_code_415</td>\n",
       "      <td>area_code_415</td>\n",
       "      <td>area_code_415</td>\n",
       "      <td>area_code_408</td>\n",
       "      <td>area_code_415</td>\n",
       "    </tr>\n",
       "    <tr>\n",
       "      <th>international_plan</th>\n",
       "      <td>no</td>\n",
       "      <td>no</td>\n",
       "      <td>no</td>\n",
       "      <td>yes</td>\n",
       "      <td>yes</td>\n",
       "    </tr>\n",
       "    <tr>\n",
       "      <th>voice_mail_plan</th>\n",
       "      <td>yes</td>\n",
       "      <td>yes</td>\n",
       "      <td>no</td>\n",
       "      <td>no</td>\n",
       "      <td>no</td>\n",
       "    </tr>\n",
       "    <tr>\n",
       "      <th>number_vmail_messages</th>\n",
       "      <td>25</td>\n",
       "      <td>26</td>\n",
       "      <td>0</td>\n",
       "      <td>0</td>\n",
       "      <td>0</td>\n",
       "    </tr>\n",
       "    <tr>\n",
       "      <th>total_day_minutes</th>\n",
       "      <td>265.1</td>\n",
       "      <td>161.6</td>\n",
       "      <td>243.4</td>\n",
       "      <td>299.4</td>\n",
       "      <td>166.7</td>\n",
       "    </tr>\n",
       "    <tr>\n",
       "      <th>total_day_calls</th>\n",
       "      <td>110</td>\n",
       "      <td>123</td>\n",
       "      <td>114</td>\n",
       "      <td>71</td>\n",
       "      <td>113</td>\n",
       "    </tr>\n",
       "    <tr>\n",
       "      <th>total_day_charge</th>\n",
       "      <td>45.07</td>\n",
       "      <td>27.47</td>\n",
       "      <td>41.38</td>\n",
       "      <td>50.9</td>\n",
       "      <td>28.34</td>\n",
       "    </tr>\n",
       "    <tr>\n",
       "      <th>total_eve_minutes</th>\n",
       "      <td>197.4</td>\n",
       "      <td>195.5</td>\n",
       "      <td>121.2</td>\n",
       "      <td>61.9</td>\n",
       "      <td>148.3</td>\n",
       "    </tr>\n",
       "    <tr>\n",
       "      <th>total_eve_calls</th>\n",
       "      <td>99</td>\n",
       "      <td>103</td>\n",
       "      <td>110</td>\n",
       "      <td>88</td>\n",
       "      <td>122</td>\n",
       "    </tr>\n",
       "    <tr>\n",
       "      <th>total_eve_charge</th>\n",
       "      <td>16.78</td>\n",
       "      <td>16.62</td>\n",
       "      <td>10.3</td>\n",
       "      <td>5.26</td>\n",
       "      <td>12.61</td>\n",
       "    </tr>\n",
       "    <tr>\n",
       "      <th>total_night_minutes</th>\n",
       "      <td>244.7</td>\n",
       "      <td>254.4</td>\n",
       "      <td>162.6</td>\n",
       "      <td>196.9</td>\n",
       "      <td>186.9</td>\n",
       "    </tr>\n",
       "    <tr>\n",
       "      <th>total_night_calls</th>\n",
       "      <td>91</td>\n",
       "      <td>103</td>\n",
       "      <td>104</td>\n",
       "      <td>89</td>\n",
       "      <td>121</td>\n",
       "    </tr>\n",
       "    <tr>\n",
       "      <th>total_night_charge</th>\n",
       "      <td>11.01</td>\n",
       "      <td>11.45</td>\n",
       "      <td>7.32</td>\n",
       "      <td>8.86</td>\n",
       "      <td>8.41</td>\n",
       "    </tr>\n",
       "    <tr>\n",
       "      <th>total_intl_minutes</th>\n",
       "      <td>10.0</td>\n",
       "      <td>13.7</td>\n",
       "      <td>12.2</td>\n",
       "      <td>6.6</td>\n",
       "      <td>10.1</td>\n",
       "    </tr>\n",
       "    <tr>\n",
       "      <th>total_intl_calls</th>\n",
       "      <td>3</td>\n",
       "      <td>3</td>\n",
       "      <td>5</td>\n",
       "      <td>7</td>\n",
       "      <td>3</td>\n",
       "    </tr>\n",
       "    <tr>\n",
       "      <th>total_intl_charge</th>\n",
       "      <td>2.7</td>\n",
       "      <td>3.7</td>\n",
       "      <td>3.29</td>\n",
       "      <td>1.78</td>\n",
       "      <td>2.73</td>\n",
       "    </tr>\n",
       "    <tr>\n",
       "      <th>number_customer_service_calls</th>\n",
       "      <td>1</td>\n",
       "      <td>1</td>\n",
       "      <td>0</td>\n",
       "      <td>2</td>\n",
       "      <td>3</td>\n",
       "    </tr>\n",
       "    <tr>\n",
       "      <th>churn</th>\n",
       "      <td>no</td>\n",
       "      <td>no</td>\n",
       "      <td>no</td>\n",
       "      <td>no</td>\n",
       "      <td>no</td>\n",
       "    </tr>\n",
       "  </tbody>\n",
       "</table>\n",
       "</div>"
      ],
      "text/plain": [
       "                                           0              1              2  \\\n",
       "Unnamed: 0                                 1              2              3   \n",
       "state                                     KS             OH             NJ   \n",
       "account_length                           128            107            137   \n",
       "area_code                      area_code_415  area_code_415  area_code_415   \n",
       "international_plan                        no             no             no   \n",
       "voice_mail_plan                          yes            yes             no   \n",
       "number_vmail_messages                     25             26              0   \n",
       "total_day_minutes                      265.1          161.6          243.4   \n",
       "total_day_calls                          110            123            114   \n",
       "total_day_charge                       45.07          27.47          41.38   \n",
       "total_eve_minutes                      197.4          195.5          121.2   \n",
       "total_eve_calls                           99            103            110   \n",
       "total_eve_charge                       16.78          16.62           10.3   \n",
       "total_night_minutes                    244.7          254.4          162.6   \n",
       "total_night_calls                         91            103            104   \n",
       "total_night_charge                     11.01          11.45           7.32   \n",
       "total_intl_minutes                      10.0           13.7           12.2   \n",
       "total_intl_calls                           3              3              5   \n",
       "total_intl_charge                        2.7            3.7           3.29   \n",
       "number_customer_service_calls              1              1              0   \n",
       "churn                                     no             no             no   \n",
       "\n",
       "                                           3              4  \n",
       "Unnamed: 0                                 4              5  \n",
       "state                                     OH             OK  \n",
       "account_length                            84             75  \n",
       "area_code                      area_code_408  area_code_415  \n",
       "international_plan                       yes            yes  \n",
       "voice_mail_plan                           no             no  \n",
       "number_vmail_messages                      0              0  \n",
       "total_day_minutes                      299.4          166.7  \n",
       "total_day_calls                           71            113  \n",
       "total_day_charge                        50.9          28.34  \n",
       "total_eve_minutes                       61.9          148.3  \n",
       "total_eve_calls                           88            122  \n",
       "total_eve_charge                        5.26          12.61  \n",
       "total_night_minutes                    196.9          186.9  \n",
       "total_night_calls                         89            121  \n",
       "total_night_charge                      8.86           8.41  \n",
       "total_intl_minutes                       6.6           10.1  \n",
       "total_intl_calls                           7              3  \n",
       "total_intl_charge                       1.78           2.73  \n",
       "number_customer_service_calls              2              3  \n",
       "churn                                     no             no  "
      ]
     },
     "execution_count": 9,
     "metadata": {},
     "output_type": "execute_result"
    }
   ],
   "source": [
    "df_trainer.head().T"
   ]
  },
  {
   "cell_type": "code",
   "execution_count": 11,
   "id": "b9712ef8",
   "metadata": {},
   "outputs": [
    {
     "data": {
      "text/plain": [
       "Unnamed: 0                         int64\n",
       "account_length                     int64\n",
       "total_intl_calls                   int64\n",
       "number_vmail_messages              int64\n",
       "total_night_calls                  int64\n",
       "total_day_calls                    int64\n",
       "number_customer_service_calls      int64\n",
       "total_eve_calls                    int64\n",
       "total_intl_charge                float64\n",
       "total_intl_minutes               float64\n",
       "total_night_charge               float64\n",
       "total_night_minutes              float64\n",
       "total_eve_minutes                float64\n",
       "total_day_charge                 float64\n",
       "total_day_minutes                float64\n",
       "total_eve_charge                 float64\n",
       "voice_mail_plan                   object\n",
       "international_plan                object\n",
       "area_code                         object\n",
       "state                             object\n",
       "churn                             object\n",
       "dtype: object"
      ]
     },
     "execution_count": 11,
     "metadata": {},
     "output_type": "execute_result"
    }
   ],
   "source": [
    "df_trainer.dtypes.sort_values()"
   ]
  },
  {
   "cell_type": "code",
   "execution_count": 12,
   "id": "07256e2a",
   "metadata": {},
   "outputs": [
    {
     "data": {
      "text/plain": [
       "Unnamed: 0                       0\n",
       "state                            0\n",
       "account_length                   0\n",
       "area_code                        0\n",
       "international_plan               0\n",
       "voice_mail_plan                  0\n",
       "number_vmail_messages            0\n",
       "total_day_minutes                0\n",
       "total_day_calls                  0\n",
       "total_day_charge                 0\n",
       "total_eve_minutes                0\n",
       "total_eve_calls                  0\n",
       "total_eve_charge                 0\n",
       "total_night_minutes              0\n",
       "total_night_calls                0\n",
       "total_night_charge               0\n",
       "total_intl_minutes               0\n",
       "total_intl_calls                 0\n",
       "total_intl_charge                0\n",
       "number_customer_service_calls    0\n",
       "churn                            0\n",
       "dtype: int64"
      ]
     },
     "execution_count": 12,
     "metadata": {},
     "output_type": "execute_result"
    }
   ],
   "source": [
    "df_trainer.isna().sum()"
   ]
  },
  {
   "cell_type": "code",
   "execution_count": 15,
   "id": "93fa7833",
   "metadata": {},
   "outputs": [
    {
     "data": {
      "text/plain": [
       "churn                               2\n",
       "international_plan                  2\n",
       "voice_mail_plan                     2\n",
       "area_code                           3\n",
       "number_customer_service_calls      10\n",
       "total_intl_calls                   21\n",
       "number_vmail_messages              46\n",
       "state                              51\n",
       "total_day_calls                   119\n",
       "total_night_calls                 120\n",
       "total_eve_calls                   123\n",
       "total_intl_charge                 162\n",
       "total_intl_minutes                162\n",
       "account_length                    212\n",
       "total_night_charge                933\n",
       "total_eve_charge                 1440\n",
       "total_night_minutes              1591\n",
       "total_eve_minutes                1611\n",
       "total_day_minutes                1667\n",
       "total_day_charge                 1667\n",
       "Unnamed: 0                       3333\n",
       "dtype: int64"
      ]
     },
     "execution_count": 15,
     "metadata": {},
     "output_type": "execute_result"
    }
   ],
   "source": [
    "df_trainer.nunique().sort_values()"
   ]
  },
  {
   "cell_type": "code",
   "execution_count": null,
   "id": "6ca1a346",
   "metadata": {},
   "outputs": [],
   "source": []
  }
 ],
 "metadata": {
  "kernelspec": {
   "display_name": "Python 3",
   "language": "python",
   "name": "python3"
  },
  "language_info": {
   "codemirror_mode": {
    "name": "ipython",
    "version": 3
   },
   "file_extension": ".py",
   "mimetype": "text/x-python",
   "name": "python",
   "nbconvert_exporter": "python",
   "pygments_lexer": "ipython3",
   "version": "3.8.8"
  }
 },
 "nbformat": 4,
 "nbformat_minor": 5
}
