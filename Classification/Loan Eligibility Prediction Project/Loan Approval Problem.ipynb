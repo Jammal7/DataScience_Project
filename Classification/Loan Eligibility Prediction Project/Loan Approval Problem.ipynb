{
 "cells": [
  {
   "cell_type": "markdown",
   "id": "a95c0d65",
   "metadata": {},
   "source": [
    "# Loan Approval/Eligibility Problem\n",
    "\n",
    "## 1. Problem Definition\n",
    "In a statement,\n",
    "> we will build an automated machine learning model to predict the repaying capacity of applicants.\n",
    "\n",
    "\n",
    "## 2. Evaluation\n",
    "> To achieve a passing grade, the accuracy of the model has to be at least 70%\n",
    "\n",
    "## 3. Features\n",
    "Here, we get to see different information about each of the features in the data.\n",
    "\n",
    "**Create data dictionary**\n",
    "\n",
    "1. Loan ID: A unique identifier for the loan information.\n",
    "2. Customer ID: A unique identifier for the loan customer.\n",
    "3. Loan Status: A categorical variable indicating if the loan was given to the customer.\n",
    "4. Current Loan Amount: This is the loan amount that was either completely paid off, or the amount that was defaulted. This data is for previous loan.\n",
    "5. Term: A categorical variable indicating if it is a short term or long term loan.\n",
    "6. Credit Score: A value between 0 and 800 indicating the riskiness of the borrower's credit history.\n",
    "7. Years in current job: A categorical variable indicating how many years the customer has been in current job.\n",
    "8. Home Ownership: Categorical variable indicating howme ownership. Values are \"Rent\", \"Home Mortgage\", and \"Own\". If the value is OWN, then the customer is a home owner with no mortgage.\n",
    "9. Annual Income: The customer's annual invome.\n",
    "10. Purpose: A description of the purpose of the loan.\n",
    "11. Monthly Debt: The customer's monthly payment for their existing loans\n",
    "12. Years of Credit History: The years since the first entry in the customer's credit history.\n",
    "13. Months since last delinquent: Months since the last loan deliquent payment.\n",
    "14. Number of open accounts: The total number of open credit cards\n",
    "15. Number of Credit Problems: The number of credit problems in the customer records.\n",
    "16. Current Credit Balance: The current total debt for the customer.\n",
    "17. Maximum Open Credit: The maximum credit limit for all credit sources.\n",
    "18. Bankruptcies: The number of bankrupt\n",
    "19. Tax Liens: The number of tax liens."
   ]
  },
  {
   "cell_type": "code",
   "execution_count": null,
   "id": "0174bcb3",
   "metadata": {},
   "outputs": [],
   "source": []
  }
 ],
 "metadata": {
  "kernelspec": {
   "display_name": "Python 3",
   "language": "python",
   "name": "python3"
  },
  "language_info": {
   "codemirror_mode": {
    "name": "ipython",
    "version": 3
   },
   "file_extension": ".py",
   "mimetype": "text/x-python",
   "name": "python",
   "nbconvert_exporter": "python",
   "pygments_lexer": "ipython3",
   "version": "3.8.8"
  }
 },
 "nbformat": 4,
 "nbformat_minor": 5
}
