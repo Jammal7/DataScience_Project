{
 "cells": [
  {
   "cell_type": "markdown",
   "id": "8e44768a",
   "metadata": {},
   "source": [
    "# Loan Approval/Eligibility Problem\n",
    "\n",
    "## 1. Problem Definition\n",
    "In a statement,\n",
    "> we will build an automated machine learning model to predict the repaying capacity of applicants.\n",
    "\n",
    "\n",
    "## 2. Evaluation\n",
    "> To achieve a passing grade, the accuracy of the model has to be at least 70%\n",
    "\n",
    "## 3. Features\n",
    "Here, we get to see different information about each of the features in the data.\n",
    "\n",
    "**Create data dictionary**\n",
    "\n",
    "1. Loan ID: A unique identifier for the loan information.\n",
    "2. Customer ID: A unique identifier for the loan customer.\n",
    "3. Loan Status: A categorical variable indicating if the loan was given to the customer.\n",
    "4. Current Loan Amount: This is the loan amount that was either completely paid off, or the amount that was defaulted. This data is for previous loan.\n",
    "5. Term: A categorical variable indicating if it is a short term or long term loan.\n",
    "6. Credit Score: A value between 0 and 800 indicating the riskiness of the borrower's credit history.\n",
    "7. Years in current job: A categorical variable indicating how many years the customer has been in current job.\n",
    "8. Home Ownership: Categorical variable indicating howme ownership. Values are \"Rent\", \"Home Mortgage\", and \"Own\". If the value is OWN, then the customer is a home owner with no mortgage.\n",
    "9. Annual Income: The customer's annual invome.\n",
    "10. Purpose: A description of the purpose of the loan.\n",
    "11. Monthly Debt: The customer's monthly payment for their existing loans\n",
    "12. Years of Credit History: The years since the first entry in the customer's credit history.\n",
    "13. Months since last delinquent: Months since the last loan deliquent payment.\n",
    "14. Number of open accounts: The total number of open credit cards\n",
    "15. Number of Credit Problems: The number of credit problems in the customer records.\n",
    "16. Current Credit Balance: The current total debt for the customer.\n",
    "17. Maximum Open Credit: The maximum credit limit for all credit sources.\n",
    "18. Bankruptcies: The number of bankrupt\n",
    "19. Tax Liens: The number of tax liens."
   ]
  },
  {
   "cell_type": "code",
   "execution_count": 1,
   "id": "1bfa6ca0",
   "metadata": {},
   "outputs": [],
   "source": [
    "import pandas as pd\n",
    "import numpy as np\n",
    "%matplotlib inline\n",
    "import seaborn as sns\n",
    "import matplotlib.pyplot as plt\n",
    "import statistics"
   ]
  },
  {
   "cell_type": "code",
   "execution_count": 2,
   "id": "5b09eedf",
   "metadata": {},
   "outputs": [
    {
     "data": {
      "text/html": [
       "<div>\n",
       "<style scoped>\n",
       "    .dataframe tbody tr th:only-of-type {\n",
       "        vertical-align: middle;\n",
       "    }\n",
       "\n",
       "    .dataframe tbody tr th {\n",
       "        vertical-align: top;\n",
       "    }\n",
       "\n",
       "    .dataframe thead th {\n",
       "        text-align: right;\n",
       "    }\n",
       "</style>\n",
       "<table border=\"1\" class=\"dataframe\">\n",
       "  <thead>\n",
       "    <tr style=\"text-align: right;\">\n",
       "      <th></th>\n",
       "      <th>Loan ID</th>\n",
       "      <th>Customer ID</th>\n",
       "      <th>Loan Status</th>\n",
       "      <th>Current Loan Amount</th>\n",
       "      <th>Term</th>\n",
       "      <th>Credit Score</th>\n",
       "      <th>Years in current job</th>\n",
       "      <th>Home Ownership</th>\n",
       "      <th>Annual Income</th>\n",
       "      <th>Purpose</th>\n",
       "      <th>Monthly Debt</th>\n",
       "      <th>Years of Credit History</th>\n",
       "      <th>Months since last delinquent</th>\n",
       "      <th>Number of Open Accounts</th>\n",
       "      <th>Number of Credit Problems</th>\n",
       "      <th>Current Credit Balance</th>\n",
       "      <th>Maximum Open Credit</th>\n",
       "      <th>Bankruptcies</th>\n",
       "      <th>Tax Liens</th>\n",
       "    </tr>\n",
       "  </thead>\n",
       "  <tbody>\n",
       "    <tr>\n",
       "      <th>0</th>\n",
       "      <td>6cf51492-02a2-423e-b93d-676f05b9ad53</td>\n",
       "      <td>7c202b37-2add-44e8-9aea-d5b119aea935</td>\n",
       "      <td>Loan Refused</td>\n",
       "      <td>12232</td>\n",
       "      <td>Short Term</td>\n",
       "      <td>7280.0</td>\n",
       "      <td>&lt; 1 year</td>\n",
       "      <td>Rent</td>\n",
       "      <td>46643.0</td>\n",
       "      <td>Debt Consolidation</td>\n",
       "      <td>777.39</td>\n",
       "      <td>18.0</td>\n",
       "      <td>10.0</td>\n",
       "      <td>12</td>\n",
       "      <td>0</td>\n",
       "      <td>6762</td>\n",
       "      <td>7946</td>\n",
       "      <td>0.0</td>\n",
       "      <td>0.0</td>\n",
       "    </tr>\n",
       "    <tr>\n",
       "      <th>1</th>\n",
       "      <td>552e7ade-4292-4354-9ff9-c48031697d72</td>\n",
       "      <td>e7217b0a-07ac-47dd-b379-577b5a35b7c6</td>\n",
       "      <td>Loan Refused</td>\n",
       "      <td>25014</td>\n",
       "      <td>Long Term</td>\n",
       "      <td>7330.0</td>\n",
       "      <td>10+ years</td>\n",
       "      <td>Home Mortgage</td>\n",
       "      <td>81099.0</td>\n",
       "      <td>Debt Consolidation</td>\n",
       "      <td>892.09</td>\n",
       "      <td>26.7</td>\n",
       "      <td>NaN</td>\n",
       "      <td>14</td>\n",
       "      <td>0</td>\n",
       "      <td>35706</td>\n",
       "      <td>77961</td>\n",
       "      <td>0.0</td>\n",
       "      <td>0.0</td>\n",
       "    </tr>\n",
       "    <tr>\n",
       "      <th>2</th>\n",
       "      <td>9b5e32b3-8d76-4801-afc8-d729d5a2e6b9</td>\n",
       "      <td>0a62fc41-16c8-40b5-92ff-9e4b763ce714</td>\n",
       "      <td>Loan Refused</td>\n",
       "      <td>16117</td>\n",
       "      <td>Short Term</td>\n",
       "      <td>7240.0</td>\n",
       "      <td>9 years</td>\n",
       "      <td>Home Mortgage</td>\n",
       "      <td>60438.0</td>\n",
       "      <td>Home Improvements</td>\n",
       "      <td>1244.02</td>\n",
       "      <td>16.7</td>\n",
       "      <td>32.0</td>\n",
       "      <td>11</td>\n",
       "      <td>1</td>\n",
       "      <td>11275</td>\n",
       "      <td>14815</td>\n",
       "      <td>1.0</td>\n",
       "      <td>0.0</td>\n",
       "    </tr>\n",
       "    <tr>\n",
       "      <th>3</th>\n",
       "      <td>5419b7c7-ac11-4be2-a8a7-b131fb6d6dbe</td>\n",
       "      <td>30f36c59-5182-4482-8bbb-5b736849ae43</td>\n",
       "      <td>Loan Refused</td>\n",
       "      <td>11716</td>\n",
       "      <td>Short Term</td>\n",
       "      <td>7400.0</td>\n",
       "      <td>3 years</td>\n",
       "      <td>Rent</td>\n",
       "      <td>34171.0</td>\n",
       "      <td>Debt Consolidation</td>\n",
       "      <td>990.94</td>\n",
       "      <td>10.0</td>\n",
       "      <td>NaN</td>\n",
       "      <td>21</td>\n",
       "      <td>0</td>\n",
       "      <td>7009</td>\n",
       "      <td>43533</td>\n",
       "      <td>0.0</td>\n",
       "      <td>0.0</td>\n",
       "    </tr>\n",
       "    <tr>\n",
       "      <th>4</th>\n",
       "      <td>1450910f-9495-4fc9-afaf-9bdf4b9821df</td>\n",
       "      <td>70c26012-bba5-42c0-8dcb-75295ada31bb</td>\n",
       "      <td>Loan Refused</td>\n",
       "      <td>9789</td>\n",
       "      <td>Long Term</td>\n",
       "      <td>6860.0</td>\n",
       "      <td>10+ years</td>\n",
       "      <td>Home Mortgage</td>\n",
       "      <td>47003.0</td>\n",
       "      <td>Home Improvements</td>\n",
       "      <td>503.71</td>\n",
       "      <td>16.7</td>\n",
       "      <td>25.0</td>\n",
       "      <td>13</td>\n",
       "      <td>1</td>\n",
       "      <td>16913</td>\n",
       "      <td>19553</td>\n",
       "      <td>1.0</td>\n",
       "      <td>0.0</td>\n",
       "    </tr>\n",
       "  </tbody>\n",
       "</table>\n",
       "</div>"
      ],
      "text/plain": [
       "                                Loan ID                           Customer ID  \\\n",
       "0  6cf51492-02a2-423e-b93d-676f05b9ad53  7c202b37-2add-44e8-9aea-d5b119aea935   \n",
       "1  552e7ade-4292-4354-9ff9-c48031697d72  e7217b0a-07ac-47dd-b379-577b5a35b7c6   \n",
       "2  9b5e32b3-8d76-4801-afc8-d729d5a2e6b9  0a62fc41-16c8-40b5-92ff-9e4b763ce714   \n",
       "3  5419b7c7-ac11-4be2-a8a7-b131fb6d6dbe  30f36c59-5182-4482-8bbb-5b736849ae43   \n",
       "4  1450910f-9495-4fc9-afaf-9bdf4b9821df  70c26012-bba5-42c0-8dcb-75295ada31bb   \n",
       "\n",
       "    Loan Status  Current Loan Amount        Term  Credit Score  \\\n",
       "0  Loan Refused                12232  Short Term        7280.0   \n",
       "1  Loan Refused                25014   Long Term        7330.0   \n",
       "2  Loan Refused                16117  Short Term        7240.0   \n",
       "3  Loan Refused                11716  Short Term        7400.0   \n",
       "4  Loan Refused                 9789   Long Term        6860.0   \n",
       "\n",
       "  Years in current job Home Ownership  Annual Income             Purpose  \\\n",
       "0             < 1 year           Rent        46643.0  Debt Consolidation   \n",
       "1            10+ years  Home Mortgage        81099.0  Debt Consolidation   \n",
       "2              9 years  Home Mortgage        60438.0   Home Improvements   \n",
       "3              3 years           Rent        34171.0  Debt Consolidation   \n",
       "4            10+ years  Home Mortgage        47003.0   Home Improvements   \n",
       "\n",
       "  Monthly Debt  Years of Credit History  Months since last delinquent  \\\n",
       "0       777.39                     18.0                          10.0   \n",
       "1       892.09                     26.7                           NaN   \n",
       "2      1244.02                     16.7                          32.0   \n",
       "3       990.94                     10.0                           NaN   \n",
       "4       503.71                     16.7                          25.0   \n",
       "\n",
       "   Number of Open Accounts  Number of Credit Problems  Current Credit Balance  \\\n",
       "0                       12                          0                    6762   \n",
       "1                       14                          0                   35706   \n",
       "2                       11                          1                   11275   \n",
       "3                       21                          0                    7009   \n",
       "4                       13                          1                   16913   \n",
       "\n",
       "  Maximum Open Credit  Bankruptcies  Tax Liens  \n",
       "0                7946           0.0        0.0  \n",
       "1               77961           0.0        0.0  \n",
       "2               14815           1.0        0.0  \n",
       "3               43533           0.0        0.0  \n",
       "4               19553           1.0        0.0  "
      ]
     },
     "execution_count": 2,
     "metadata": {},
     "output_type": "execute_result"
    }
   ],
   "source": [
    "df = pd.read_csv(\"LoansTrainingSetV2.csv\", low_memory=False)\n",
    "df.head()"
   ]
  },
  {
   "cell_type": "code",
   "execution_count": 3,
   "id": "270e236f",
   "metadata": {},
   "outputs": [
    {
     "data": {
      "text/html": [
       "<div>\n",
       "<style scoped>\n",
       "    .dataframe tbody tr th:only-of-type {\n",
       "        vertical-align: middle;\n",
       "    }\n",
       "\n",
       "    .dataframe tbody tr th {\n",
       "        vertical-align: top;\n",
       "    }\n",
       "\n",
       "    .dataframe thead th {\n",
       "        text-align: right;\n",
       "    }\n",
       "</style>\n",
       "<table border=\"1\" class=\"dataframe\">\n",
       "  <thead>\n",
       "    <tr style=\"text-align: right;\">\n",
       "      <th></th>\n",
       "      <th>0</th>\n",
       "      <th>1</th>\n",
       "      <th>2</th>\n",
       "      <th>3</th>\n",
       "      <th>4</th>\n",
       "    </tr>\n",
       "  </thead>\n",
       "  <tbody>\n",
       "    <tr>\n",
       "      <th>Loan ID</th>\n",
       "      <td>6cf51492-02a2-423e-b93d-676f05b9ad53</td>\n",
       "      <td>552e7ade-4292-4354-9ff9-c48031697d72</td>\n",
       "      <td>9b5e32b3-8d76-4801-afc8-d729d5a2e6b9</td>\n",
       "      <td>5419b7c7-ac11-4be2-a8a7-b131fb6d6dbe</td>\n",
       "      <td>1450910f-9495-4fc9-afaf-9bdf4b9821df</td>\n",
       "    </tr>\n",
       "    <tr>\n",
       "      <th>Customer ID</th>\n",
       "      <td>7c202b37-2add-44e8-9aea-d5b119aea935</td>\n",
       "      <td>e7217b0a-07ac-47dd-b379-577b5a35b7c6</td>\n",
       "      <td>0a62fc41-16c8-40b5-92ff-9e4b763ce714</td>\n",
       "      <td>30f36c59-5182-4482-8bbb-5b736849ae43</td>\n",
       "      <td>70c26012-bba5-42c0-8dcb-75295ada31bb</td>\n",
       "    </tr>\n",
       "    <tr>\n",
       "      <th>Loan Status</th>\n",
       "      <td>Loan Refused</td>\n",
       "      <td>Loan Refused</td>\n",
       "      <td>Loan Refused</td>\n",
       "      <td>Loan Refused</td>\n",
       "      <td>Loan Refused</td>\n",
       "    </tr>\n",
       "    <tr>\n",
       "      <th>Current Loan Amount</th>\n",
       "      <td>12232</td>\n",
       "      <td>25014</td>\n",
       "      <td>16117</td>\n",
       "      <td>11716</td>\n",
       "      <td>9789</td>\n",
       "    </tr>\n",
       "    <tr>\n",
       "      <th>Term</th>\n",
       "      <td>Short Term</td>\n",
       "      <td>Long Term</td>\n",
       "      <td>Short Term</td>\n",
       "      <td>Short Term</td>\n",
       "      <td>Long Term</td>\n",
       "    </tr>\n",
       "    <tr>\n",
       "      <th>Credit Score</th>\n",
       "      <td>7280.0</td>\n",
       "      <td>7330.0</td>\n",
       "      <td>7240.0</td>\n",
       "      <td>7400.0</td>\n",
       "      <td>6860.0</td>\n",
       "    </tr>\n",
       "    <tr>\n",
       "      <th>Years in current job</th>\n",
       "      <td>&lt; 1 year</td>\n",
       "      <td>10+ years</td>\n",
       "      <td>9 years</td>\n",
       "      <td>3 years</td>\n",
       "      <td>10+ years</td>\n",
       "    </tr>\n",
       "    <tr>\n",
       "      <th>Home Ownership</th>\n",
       "      <td>Rent</td>\n",
       "      <td>Home Mortgage</td>\n",
       "      <td>Home Mortgage</td>\n",
       "      <td>Rent</td>\n",
       "      <td>Home Mortgage</td>\n",
       "    </tr>\n",
       "    <tr>\n",
       "      <th>Annual Income</th>\n",
       "      <td>46643.0</td>\n",
       "      <td>81099.0</td>\n",
       "      <td>60438.0</td>\n",
       "      <td>34171.0</td>\n",
       "      <td>47003.0</td>\n",
       "    </tr>\n",
       "    <tr>\n",
       "      <th>Purpose</th>\n",
       "      <td>Debt Consolidation</td>\n",
       "      <td>Debt Consolidation</td>\n",
       "      <td>Home Improvements</td>\n",
       "      <td>Debt Consolidation</td>\n",
       "      <td>Home Improvements</td>\n",
       "    </tr>\n",
       "    <tr>\n",
       "      <th>Monthly Debt</th>\n",
       "      <td>777.39</td>\n",
       "      <td>892.09</td>\n",
       "      <td>1244.02</td>\n",
       "      <td>990.94</td>\n",
       "      <td>503.71</td>\n",
       "    </tr>\n",
       "    <tr>\n",
       "      <th>Years of Credit History</th>\n",
       "      <td>18.0</td>\n",
       "      <td>26.7</td>\n",
       "      <td>16.7</td>\n",
       "      <td>10.0</td>\n",
       "      <td>16.7</td>\n",
       "    </tr>\n",
       "    <tr>\n",
       "      <th>Months since last delinquent</th>\n",
       "      <td>10.0</td>\n",
       "      <td>NaN</td>\n",
       "      <td>32.0</td>\n",
       "      <td>NaN</td>\n",
       "      <td>25.0</td>\n",
       "    </tr>\n",
       "    <tr>\n",
       "      <th>Number of Open Accounts</th>\n",
       "      <td>12</td>\n",
       "      <td>14</td>\n",
       "      <td>11</td>\n",
       "      <td>21</td>\n",
       "      <td>13</td>\n",
       "    </tr>\n",
       "    <tr>\n",
       "      <th>Number of Credit Problems</th>\n",
       "      <td>0</td>\n",
       "      <td>0</td>\n",
       "      <td>1</td>\n",
       "      <td>0</td>\n",
       "      <td>1</td>\n",
       "    </tr>\n",
       "    <tr>\n",
       "      <th>Current Credit Balance</th>\n",
       "      <td>6762</td>\n",
       "      <td>35706</td>\n",
       "      <td>11275</td>\n",
       "      <td>7009</td>\n",
       "      <td>16913</td>\n",
       "    </tr>\n",
       "    <tr>\n",
       "      <th>Maximum Open Credit</th>\n",
       "      <td>7946</td>\n",
       "      <td>77961</td>\n",
       "      <td>14815</td>\n",
       "      <td>43533</td>\n",
       "      <td>19553</td>\n",
       "    </tr>\n",
       "    <tr>\n",
       "      <th>Bankruptcies</th>\n",
       "      <td>0.0</td>\n",
       "      <td>0.0</td>\n",
       "      <td>1.0</td>\n",
       "      <td>0.0</td>\n",
       "      <td>1.0</td>\n",
       "    </tr>\n",
       "    <tr>\n",
       "      <th>Tax Liens</th>\n",
       "      <td>0.0</td>\n",
       "      <td>0.0</td>\n",
       "      <td>0.0</td>\n",
       "      <td>0.0</td>\n",
       "      <td>0.0</td>\n",
       "    </tr>\n",
       "  </tbody>\n",
       "</table>\n",
       "</div>"
      ],
      "text/plain": [
       "                                                                 0  \\\n",
       "Loan ID                       6cf51492-02a2-423e-b93d-676f05b9ad53   \n",
       "Customer ID                   7c202b37-2add-44e8-9aea-d5b119aea935   \n",
       "Loan Status                                           Loan Refused   \n",
       "Current Loan Amount                                          12232   \n",
       "Term                                                    Short Term   \n",
       "Credit Score                                                7280.0   \n",
       "Years in current job                                      < 1 year   \n",
       "Home Ownership                                                Rent   \n",
       "Annual Income                                              46643.0   \n",
       "Purpose                                         Debt Consolidation   \n",
       "Monthly Debt                                                777.39   \n",
       "Years of Credit History                                       18.0   \n",
       "Months since last delinquent                                  10.0   \n",
       "Number of Open Accounts                                         12   \n",
       "Number of Credit Problems                                        0   \n",
       "Current Credit Balance                                        6762   \n",
       "Maximum Open Credit                                           7946   \n",
       "Bankruptcies                                                   0.0   \n",
       "Tax Liens                                                      0.0   \n",
       "\n",
       "                                                                 1  \\\n",
       "Loan ID                       552e7ade-4292-4354-9ff9-c48031697d72   \n",
       "Customer ID                   e7217b0a-07ac-47dd-b379-577b5a35b7c6   \n",
       "Loan Status                                           Loan Refused   \n",
       "Current Loan Amount                                          25014   \n",
       "Term                                                     Long Term   \n",
       "Credit Score                                                7330.0   \n",
       "Years in current job                                     10+ years   \n",
       "Home Ownership                                       Home Mortgage   \n",
       "Annual Income                                              81099.0   \n",
       "Purpose                                         Debt Consolidation   \n",
       "Monthly Debt                                                892.09   \n",
       "Years of Credit History                                       26.7   \n",
       "Months since last delinquent                                   NaN   \n",
       "Number of Open Accounts                                         14   \n",
       "Number of Credit Problems                                        0   \n",
       "Current Credit Balance                                       35706   \n",
       "Maximum Open Credit                                          77961   \n",
       "Bankruptcies                                                   0.0   \n",
       "Tax Liens                                                      0.0   \n",
       "\n",
       "                                                                 2  \\\n",
       "Loan ID                       9b5e32b3-8d76-4801-afc8-d729d5a2e6b9   \n",
       "Customer ID                   0a62fc41-16c8-40b5-92ff-9e4b763ce714   \n",
       "Loan Status                                           Loan Refused   \n",
       "Current Loan Amount                                          16117   \n",
       "Term                                                    Short Term   \n",
       "Credit Score                                                7240.0   \n",
       "Years in current job                                       9 years   \n",
       "Home Ownership                                       Home Mortgage   \n",
       "Annual Income                                              60438.0   \n",
       "Purpose                                          Home Improvements   \n",
       "Monthly Debt                                               1244.02   \n",
       "Years of Credit History                                       16.7   \n",
       "Months since last delinquent                                  32.0   \n",
       "Number of Open Accounts                                         11   \n",
       "Number of Credit Problems                                        1   \n",
       "Current Credit Balance                                       11275   \n",
       "Maximum Open Credit                                          14815   \n",
       "Bankruptcies                                                   1.0   \n",
       "Tax Liens                                                      0.0   \n",
       "\n",
       "                                                                 3  \\\n",
       "Loan ID                       5419b7c7-ac11-4be2-a8a7-b131fb6d6dbe   \n",
       "Customer ID                   30f36c59-5182-4482-8bbb-5b736849ae43   \n",
       "Loan Status                                           Loan Refused   \n",
       "Current Loan Amount                                          11716   \n",
       "Term                                                    Short Term   \n",
       "Credit Score                                                7400.0   \n",
       "Years in current job                                       3 years   \n",
       "Home Ownership                                                Rent   \n",
       "Annual Income                                              34171.0   \n",
       "Purpose                                         Debt Consolidation   \n",
       "Monthly Debt                                                990.94   \n",
       "Years of Credit History                                       10.0   \n",
       "Months since last delinquent                                   NaN   \n",
       "Number of Open Accounts                                         21   \n",
       "Number of Credit Problems                                        0   \n",
       "Current Credit Balance                                        7009   \n",
       "Maximum Open Credit                                          43533   \n",
       "Bankruptcies                                                   0.0   \n",
       "Tax Liens                                                      0.0   \n",
       "\n",
       "                                                                 4  \n",
       "Loan ID                       1450910f-9495-4fc9-afaf-9bdf4b9821df  \n",
       "Customer ID                   70c26012-bba5-42c0-8dcb-75295ada31bb  \n",
       "Loan Status                                           Loan Refused  \n",
       "Current Loan Amount                                           9789  \n",
       "Term                                                     Long Term  \n",
       "Credit Score                                                6860.0  \n",
       "Years in current job                                     10+ years  \n",
       "Home Ownership                                       Home Mortgage  \n",
       "Annual Income                                              47003.0  \n",
       "Purpose                                          Home Improvements  \n",
       "Monthly Debt                                                503.71  \n",
       "Years of Credit History                                       16.7  \n",
       "Months since last delinquent                                  25.0  \n",
       "Number of Open Accounts                                         13  \n",
       "Number of Credit Problems                                        1  \n",
       "Current Credit Balance                                       16913  \n",
       "Maximum Open Credit                                          19553  \n",
       "Bankruptcies                                                   1.0  \n",
       "Tax Liens                                                      0.0  "
      ]
     },
     "execution_count": 3,
     "metadata": {},
     "output_type": "execute_result"
    }
   ],
   "source": [
    "df.head().T"
   ]
  },
  {
   "cell_type": "code",
   "execution_count": 4,
   "id": "1a3cc0a6",
   "metadata": {},
   "outputs": [
    {
     "data": {
      "text/plain": [
       "(111107, 19)"
      ]
     },
     "execution_count": 4,
     "metadata": {},
     "output_type": "execute_result"
    }
   ],
   "source": [
    "df.shape"
   ]
  },
  {
   "cell_type": "code",
   "execution_count": 5,
   "id": "a7e70b5c",
   "metadata": {},
   "outputs": [
    {
     "data": {
      "text/plain": [
       "111107"
      ]
     },
     "execution_count": 5,
     "metadata": {},
     "output_type": "execute_result"
    }
   ],
   "source": [
    "len(df)"
   ]
  },
  {
   "cell_type": "markdown",
   "id": "5181e120",
   "metadata": {},
   "source": [
    "### Exploratory Data Analysis(EDA)"
   ]
  },
  {
   "cell_type": "code",
   "execution_count": 6,
   "id": "7cb55fa0",
   "metadata": {},
   "outputs": [
    {
     "data": {
      "text/plain": [
       "Loan ID                             0\n",
       "Customer ID                         0\n",
       "Loan Status                         0\n",
       "Current Loan Amount                 0\n",
       "Term                                0\n",
       "Credit Score                    21338\n",
       "Years in current job             4693\n",
       "Home Ownership                      0\n",
       "Annual Income                   21338\n",
       "Purpose                             0\n",
       "Monthly Debt                        0\n",
       "Years of Credit History             0\n",
       "Months since last delinquent    59003\n",
       "Number of Open Accounts             0\n",
       "Number of Credit Problems           0\n",
       "Current Credit Balance              0\n",
       "Maximum Open Credit                 0\n",
       "Bankruptcies                      228\n",
       "Tax Liens                          11\n",
       "dtype: int64"
      ]
     },
     "execution_count": 6,
     "metadata": {},
     "output_type": "execute_result"
    }
   ],
   "source": [
    "df.isna().sum()"
   ]
  },
  {
   "cell_type": "code",
   "execution_count": 7,
   "id": "134700d3",
   "metadata": {},
   "outputs": [
    {
     "data": {
      "text/plain": [
       "(88910, 19)"
      ]
     },
     "execution_count": 7,
     "metadata": {},
     "output_type": "execute_result"
    }
   ],
   "source": [
    "# Drop the duplicates with respect to LOAN ID\n",
    "df.drop_duplicates(subset=\"Loan ID\", keep=\"first\", inplace=True)\n",
    "df.shape"
   ]
  },
  {
   "cell_type": "code",
   "execution_count": 8,
   "id": "cc844e1b",
   "metadata": {},
   "outputs": [],
   "source": [
    "status = df[\"Loan Status\"].value_counts()"
   ]
  },
  {
   "cell_type": "code",
   "execution_count": 9,
   "id": "e89c17d2",
   "metadata": {},
   "outputs": [
    {
     "name": "stderr",
     "output_type": "stream",
     "text": [
      "C:\\Users\\oabas\\anaconda3\\lib\\site-packages\\seaborn\\_decorators.py:36: FutureWarning: Pass the following variables as keyword args: x, y. From version 0.12, the only valid positional argument will be `data`, and passing other arguments without an explicit keyword will result in an error or misinterpretation.\n",
      "  warnings.warn(\n"
     ]
    },
    {
     "data": {
      "image/png": "[encoded data removed]",
      "text/plain": [
       "<Figure size 720x360 with 1 Axes>"
      ]
     },
     "metadata": {
      "needs_background": "light"
     },
     "output_type": "display_data"
    }
   ],
   "source": [
    "plt.figure(figsize=(10,5))\n",
    "sns.barplot(status.index, status.values, alpha=0.8)\n",
    "plt.title('Loan Status distribution')\n",
    "plt.ylabel('Number of Occurrences', fontsize=12)\n",
    "plt.xlabel('Loan Status', fontsize=12)\n",
    "plt.show()"
   ]
  },
  {
   "cell_type": "markdown",
   "id": "a66e0ca6",
   "metadata": {},
   "source": [
    "### Removing Outliers"
   ]
  },
  {
   "cell_type": "code",
   "execution_count": 12,
   "id": "7bd706a1",
   "metadata": {
    "scrolled": true
   },
   "outputs": [
    {
     "data": {
      "text/html": [
       "<div>\n",
       "<style scoped>\n",
       "    .dataframe tbody tr th:only-of-type {\n",
       "        vertical-align: middle;\n",
       "    }\n",
       "\n",
       "    .dataframe tbody tr th {\n",
       "        vertical-align: top;\n",
       "    }\n",
       "\n",
       "    .dataframe thead th {\n",
       "        text-align: right;\n",
       "    }\n",
       "</style>\n",
       "<table border=\"1\" class=\"dataframe\">\n",
       "  <thead>\n",
       "    <tr style=\"text-align: right;\">\n",
       "      <th></th>\n",
       "      <th>count</th>\n",
       "      <th>mean</th>\n",
       "      <th>std</th>\n",
       "      <th>min</th>\n",
       "      <th>25%</th>\n",
       "      <th>50%</th>\n",
       "      <th>75%</th>\n",
       "      <th>max</th>\n",
       "    </tr>\n",
       "  </thead>\n",
       "  <tbody>\n",
       "    <tr>\n",
       "      <th>Current Loan Amount</th>\n",
       "      <td>88910.0</td>\n",
       "      <td>1.433878e+07</td>\n",
       "      <td>3.502996e+07</td>\n",
       "      <td>491.0</td>\n",
       "      <td>8283.0</td>\n",
       "      <td>14355.0</td>\n",
       "      <td>24485.00</td>\n",
       "      <td>99999999.0</td>\n",
       "    </tr>\n",
       "    <tr>\n",
       "      <th>Credit Score</th>\n",
       "      <td>67572.0</td>\n",
       "      <td>1.199200e+03</td>\n",
       "      <td>1.680814e+03</td>\n",
       "      <td>585.0</td>\n",
       "      <td>714.0</td>\n",
       "      <td>733.0</td>\n",
       "      <td>744.00</td>\n",
       "      <td>7510.0</td>\n",
       "    </tr>\n",
       "    <tr>\n",
       "      <th>Annual Income</th>\n",
       "      <td>67572.0</td>\n",
       "      <td>7.234575e+04</td>\n",
       "      <td>5.836101e+04</td>\n",
       "      <td>4033.0</td>\n",
       "      <td>44586.0</td>\n",
       "      <td>61494.0</td>\n",
       "      <td>86750.25</td>\n",
       "      <td>8713547.0</td>\n",
       "    </tr>\n",
       "    <tr>\n",
       "      <th>Years of Credit History</th>\n",
       "      <td>88910.0</td>\n",
       "      <td>1.831531e+01</td>\n",
       "      <td>7.049175e+00</td>\n",
       "      <td>3.6</td>\n",
       "      <td>13.5</td>\n",
       "      <td>17.0</td>\n",
       "      <td>21.80</td>\n",
       "      <td>70.5</td>\n",
       "    </tr>\n",
       "    <tr>\n",
       "      <th>Months since last delinquent</th>\n",
       "      <td>40404.0</td>\n",
       "      <td>3.508029e+01</td>\n",
       "      <td>2.200858e+01</td>\n",
       "      <td>0.0</td>\n",
       "      <td>16.0</td>\n",
       "      <td>32.0</td>\n",
       "      <td>51.00</td>\n",
       "      <td>176.0</td>\n",
       "    </tr>\n",
       "    <tr>\n",
       "      <th>Number of Open Accounts</th>\n",
       "      <td>88910.0</td>\n",
       "      <td>1.111035e+01</td>\n",
       "      <td>4.978461e+00</td>\n",
       "      <td>0.0</td>\n",
       "      <td>8.0</td>\n",
       "      <td>10.0</td>\n",
       "      <td>14.00</td>\n",
       "      <td>76.0</td>\n",
       "    </tr>\n",
       "    <tr>\n",
       "      <th>Number of Credit Problems</th>\n",
       "      <td>88910.0</td>\n",
       "      <td>1.604769e-01</td>\n",
       "      <td>4.737460e-01</td>\n",
       "      <td>0.0</td>\n",
       "      <td>0.0</td>\n",
       "      <td>0.0</td>\n",
       "      <td>0.00</td>\n",
       "      <td>15.0</td>\n",
       "    </tr>\n",
       "    <tr>\n",
       "      <th>Current Credit Balance</th>\n",
       "      <td>88910.0</td>\n",
       "      <td>1.543593e+04</td>\n",
       "      <td>1.965873e+04</td>\n",
       "      <td>0.0</td>\n",
       "      <td>5949.0</td>\n",
       "      <td>11039.0</td>\n",
       "      <td>19301.00</td>\n",
       "      <td>1730472.0</td>\n",
       "    </tr>\n",
       "    <tr>\n",
       "      <th>Bankruptcies</th>\n",
       "      <td>88718.0</td>\n",
       "      <td>1.126716e-01</td>\n",
       "      <td>3.433000e-01</td>\n",
       "      <td>0.0</td>\n",
       "      <td>0.0</td>\n",
       "      <td>0.0</td>\n",
       "      <td>0.00</td>\n",
       "      <td>7.0</td>\n",
       "    </tr>\n",
       "    <tr>\n",
       "      <th>Tax Liens</th>\n",
       "      <td>88902.0</td>\n",
       "      <td>2.822209e-02</td>\n",
       "      <td>2.575327e-01</td>\n",
       "      <td>0.0</td>\n",
       "      <td>0.0</td>\n",
       "      <td>0.0</td>\n",
       "      <td>0.00</td>\n",
       "      <td>15.0</td>\n",
       "    </tr>\n",
       "  </tbody>\n",
       "</table>\n",
       "</div>"
      ],
      "text/plain": [
       "                                count          mean           std     min  \\\n",
       "Current Loan Amount           88910.0  1.433878e+07  3.502996e+07   491.0   \n",
       "Credit Score                  67572.0  1.199200e+03  1.680814e+03   585.0   \n",
       "Annual Income                 67572.0  7.234575e+04  5.836101e+04  4033.0   \n",
       "Years of Credit History       88910.0  1.831531e+01  7.049175e+00     3.6   \n",
       "Months since last delinquent  40404.0  3.508029e+01  2.200858e+01     0.0   \n",
       "Number of Open Accounts       88910.0  1.111035e+01  4.978461e+00     0.0   \n",
       "Number of Credit Problems     88910.0  1.604769e-01  4.737460e-01     0.0   \n",
       "Current Credit Balance        88910.0  1.543593e+04  1.965873e+04     0.0   \n",
       "Bankruptcies                  88718.0  1.126716e-01  3.433000e-01     0.0   \n",
       "Tax Liens                     88902.0  2.822209e-02  2.575327e-01     0.0   \n",
       "\n",
       "                                  25%      50%       75%         max  \n",
       "Current Loan Amount            8283.0  14355.0  24485.00  99999999.0  \n",
       "Credit Score                    714.0    733.0    744.00      7510.0  \n",
       "Annual Income                 44586.0  61494.0  86750.25   8713547.0  \n",
       "Years of Credit History          13.5     17.0     21.80        70.5  \n",
       "Months since last delinquent     16.0     32.0     51.00       176.0  \n",
       "Number of Open Accounts           8.0     10.0     14.00        76.0  \n",
       "Number of Credit Problems         0.0      0.0      0.00        15.0  \n",
       "Current Credit Balance         5949.0  11039.0  19301.00   1730472.0  \n",
       "Bankruptcies                      0.0      0.0      0.00         7.0  \n",
       "Tax Liens                         0.0      0.0      0.00        15.0  "
      ]
     },
     "execution_count": 12,
     "metadata": {},
     "output_type": "execute_result"
    }
   ],
   "source": [
    "df.describe().T"
   ]
  },
  {
   "cell_type": "markdown",
   "id": "5e2f45be",
   "metadata": {},
   "source": [
    "## Current Loan Amount"
   ]
  },
  {
   "cell_type": "code",
   "execution_count": 13,
   "id": "73493646",
   "metadata": {},
   "outputs": [
    {
     "data": {
      "text/plain": [
       "count    8.891000e+04\n",
       "mean     1.433878e+07\n",
       "std      3.502996e+07\n",
       "min      4.910000e+02\n",
       "25%      8.283000e+03\n",
       "50%      1.435500e+04\n",
       "75%      2.448500e+04\n",
       "max      1.000000e+08\n",
       "Name: Current Loan Amount, dtype: float64"
      ]
     },
     "execution_count": 13,
     "metadata": {},
     "output_type": "execute_result"
    }
   ],
   "source": [
    "df['Current Loan Amount'].describe().T"
   ]
  },
  {
   "cell_type": "markdown",
   "id": "92c3354b",
   "metadata": {},
   "source": [
    "The percentile are quite high. 25%, 50%, 75% is raise to the power of 4 and the max is raised to the power of 8. So we need to remove the outliers."
   ]
  },
  {
   "cell_type": "code",
   "execution_count": 14,
   "id": "b7a50041",
   "metadata": {},
   "outputs": [
    {
     "data": {
      "image/png": "[encoded data removed]",
      "text/plain": [
       "<Figure size 432x288 with 1 Axes>"
      ]
     },
     "metadata": {
      "needs_background": "light"
     },
     "output_type": "display_data"
    }
   ],
   "source": [
    "df[\"Current Loan Amount\"].plot.hist(grid=True, bins=20, rwidth=0.9, color='#607c8e')\n",
    "plt.title('Commute Times for 1,000 Commuters')\n",
    "plt.xlabel('Counts')\n",
    "plt.ylabel('Commute Time')\n",
    "plt.grid(axis='y', alpha=0.75)"
   ]
  },
  {
   "cell_type": "code",
   "execution_count": 15,
   "id": "aea1fa4c",
   "metadata": {},
   "outputs": [],
   "source": [
    "Q1 = df[\"Current Loan Amount\"].quantile(0.25)\n",
    "Q3 = df[\"Current Loan Amount\"].quantile(0.75)\n",
    "IQR = Q3 - Q1"
   ]
  },
  {
   "cell_type": "code",
   "execution_count": 16,
   "id": "164b8ec8",
   "metadata": {},
   "outputs": [
    {
     "data": {
      "text/plain": [
       "5044     99999999\n",
       "5045     99999999\n",
       "5046     99999999\n",
       "5047     99999999\n",
       "5048     99999999\n",
       "           ...   \n",
       "17777    99999999\n",
       "17778    99999999\n",
       "17779    99999999\n",
       "17780    99999999\n",
       "17781    99999999\n",
       "Name: Current Loan Amount, Length: 12738, dtype: int64"
      ]
     },
     "execution_count": 16,
     "metadata": {},
     "output_type": "execute_result"
    }
   ],
   "source": [
    "df[\"Current Loan Amount\"][((df[\"Current Loan Amount\"] < (Q1 - 1.5 * IQR)) |(df[\"Current Loan Amount\"] > (Q3 + 1.5 * IQR)))]"
   ]
  },
  {
   "cell_type": "code",
   "execution_count": 17,
   "id": "e886d27f",
   "metadata": {},
   "outputs": [
    {
     "data": {
      "text/plain": [
       "<AxesSubplot:ylabel='Frequency'>"
      ]
     },
     "execution_count": 17,
     "metadata": {},
     "output_type": "execute_result"
    },
    {
     "data": {
      "image/png": "[encoded data removed]",
      "text/plain": [
       "<Figure size 432x288 with 1 Axes>"
      ]
     },
     "metadata": {
      "needs_background": "light"
     },
     "output_type": "display_data"
    }
   ],
   "source": [
    "# Filling by a single value\n",
    "temp = np.array(df[\"Current Loan Amount\"].values.tolist())\n",
    "\n",
    "# Converted all of the outliers into NAN\n",
    "df[\"Current Loan Amount_temp\"] = np.where(temp > 9999998, 'NaN', temp).tolist()\n",
    "\n",
    "\n",
    "temp = df[\"Current Loan Amount_temp\"][df[\"Current Loan Amount_temp\"]!='NaN'].astype(str).astype(int)\n",
    "temp.plot.hist(grid=True, bins=20, rwidth=0.9, color='#607c8e');"
   ]
  },
  {
   "cell_type": "code",
   "execution_count": 18,
   "id": "c7246452",
   "metadata": {},
   "outputs": [
    {
     "data": {
      "text/plain": [
       "count    76172.000000\n",
       "mean     13933.915756\n",
       "std       8235.921922\n",
       "min        491.000000\n",
       "25%       7810.000000\n",
       "50%      12038.000000\n",
       "75%      19351.000000\n",
       "max      35875.000000\n",
       "Name: Current Loan Amount_temp, dtype: float64"
      ]
     },
     "execution_count": 18,
     "metadata": {},
     "output_type": "execute_result"
    }
   ],
   "source": [
    "temp.describe()"
   ]
  },
  {
   "cell_type": "code",
   "execution_count": 19,
   "id": "cd0d00aa",
   "metadata": {},
   "outputs": [],
   "source": [
    "# Replacing the data with 50% percentile(12038) instead of NAN\n",
    "temp = np.array(df[\"Current Loan Amount\"].values.tolist())\n",
    "df[\"Current Loan Amount\"] = np.where(temp > 9999998, 12038, temp).tolist()\n",
    "\n",
    "# Dropping the NAN Column\n",
    "df = df.drop(['Current Loan Amount_temp'],axis=1)"
   ]
  },
  {
   "cell_type": "code",
   "execution_count": 20,
   "id": "1ade2212",
   "metadata": {},
   "outputs": [
    {
     "data": {
      "text/plain": [
       "(88910, 19)"
      ]
     },
     "execution_count": 20,
     "metadata": {},
     "output_type": "execute_result"
    }
   ],
   "source": [
    "df.shape"
   ]
  },
  {
   "cell_type": "markdown",
   "id": "44592631",
   "metadata": {},
   "source": [
    "## Term Column"
   ]
  },
  {
   "cell_type": "code",
   "execution_count": 21,
   "id": "d6d7d247",
   "metadata": {},
   "outputs": [
    {
     "name": "stderr",
     "output_type": "stream",
     "text": [
      "C:\\Users\\oabas\\anaconda3\\lib\\site-packages\\seaborn\\_decorators.py:36: FutureWarning: Pass the following variables as keyword args: x, y. From version 0.12, the only valid positional argument will be `data`, and passing other arguments without an explicit keyword will result in an error or misinterpretation.\n",
      "  warnings.warn(\n"
     ]
    },
    {
     "data": {
      "image/png": "[encoded data removed]",
      "text/plain": [
       "<Figure size 720x360 with 1 Axes>"
      ]
     },
     "metadata": {
      "needs_background": "light"
     },
     "output_type": "display_data"
    }
   ],
   "source": [
    "status = df[\"Term\"].value_counts() \n",
    "\n",
    "plt.figure(figsize=(10,5))\n",
    "sns.barplot(status.index, status.values, alpha=0.8)\n",
    "plt.title('Loan Term distribution')\n",
    "plt.ylabel('Number of Occurrences', fontsize=12)\n",
    "plt.xlabel('Loan term', fontsize=12)\n",
    "plt.show()"
   ]
  },
  {
   "cell_type": "markdown",
   "id": "05e30f92",
   "metadata": {},
   "source": [
    "The data doesn't have any issues like missing values or outliers so we do not need to work on it"
   ]
  },
  {
   "cell_type": "markdown",
   "id": "f59bc1e1",
   "metadata": {},
   "source": [
    "## Credit Score"
   ]
  },
  {
   "cell_type": "code",
   "execution_count": 25,
   "id": "7eea2bcd",
   "metadata": {},
   "outputs": [
    {
     "data": {
      "text/plain": [
       "count    67572.000000\n",
       "mean      1199.199580\n",
       "std       1680.813805\n",
       "min        585.000000\n",
       "25%        714.000000\n",
       "50%        733.000000\n",
       "75%        744.000000\n",
       "max       7510.000000\n",
       "Name: Credit Score, dtype: float64"
      ]
     },
     "execution_count": 25,
     "metadata": {},
     "output_type": "execute_result"
    }
   ],
   "source": [
    "df[\"Credit Score\"].describe()"
   ]
  },
  {
   "cell_type": "markdown",
   "id": "5720aff9",
   "metadata": {},
   "source": [
    "Max is 7510. The credit scores ranges from 0-800, so the max value shown is not possible"
   ]
  },
  {
   "cell_type": "code",
   "execution_count": 24,
   "id": "2db2b244",
   "metadata": {},
   "outputs": [
    {
     "data": {
      "text/plain": [
       "array([False,  True])"
      ]
     },
     "execution_count": 24,
     "metadata": {},
     "output_type": "execute_result"
    }
   ],
   "source": [
    "df[\"Credit Score\"].isnull().unique()"
   ]
  },
  {
   "cell_type": "code",
   "execution_count": 25,
   "id": "0e1138fa",
   "metadata": {},
   "outputs": [],
   "source": [
    "# Let us firstly divide the values greater than 800 by 10\n",
    "df[\"Credit Score\"] = np.where(df[\"Credit Score\"]>800, \n",
    "                              df[\"Credit Score\"]/10, \n",
    "                              df[\"Credit Score\"])"
   ]
  },
  {
   "cell_type": "code",
   "execution_count": 26,
   "id": "9214ded6",
   "metadata": {},
   "outputs": [],
   "source": [
    "# Now lets replace the missing values with median \n",
    "median_score = statistics.median(df[\"Credit Score\"])"
   ]
  },
  {
   "cell_type": "code",
   "execution_count": 27,
   "id": "bad2dd7a",
   "metadata": {},
   "outputs": [
    {
     "name": "stderr",
     "output_type": "stream",
     "text": [
      "C:\\Users\\oabas\\anaconda3\\lib\\site-packages\\seaborn\\distributions.py:2557: FutureWarning: `distplot` is a deprecated function and will be removed in a future version. Please adapt your code to use either `displot` (a figure-level function with similar flexibility) or `histplot` (an axes-level function for histograms).\n",
      "  warnings.warn(msg, FutureWarning)\n"
     ]
    },
    {
     "data": {
      "image/png": "[encoded data removed]",
      "text/plain": [
       "<Figure size 432x288 with 1 Axes>"
      ]
     },
     "metadata": {
      "needs_background": "light"
     },
     "output_type": "display_data"
    }
   ],
   "source": [
    "df[\"Credit Score_1\"] = df[\"Credit Score\"]\n",
    "df[\"Credit Score_1\"].fillna(median_score, inplace = True) \n",
    "\n",
    "sns.distplot(df[\"Credit Score_1\"]);"
   ]
  },
  {
   "cell_type": "markdown",
   "id": "2a0866cf",
   "metadata": {},
   "source": [
    "As we can see this data is skewed so when we replace it with median it is giving us problems."
   ]
  },
  {
   "cell_type": "code",
   "execution_count": 28,
   "id": "c0bfb95b",
   "metadata": {},
   "outputs": [
    {
     "name": "stderr",
     "output_type": "stream",
     "text": [
      "C:\\Users\\oabas\\anaconda3\\lib\\site-packages\\seaborn\\distributions.py:2557: FutureWarning: `distplot` is a deprecated function and will be removed in a future version. Please adapt your code to use either `displot` (a figure-level function with similar flexibility) or `histplot` (an axes-level function for histograms).\n",
      "  warnings.warn(msg, FutureWarning)\n"
     ]
    },
    {
     "data": {
      "image/png": "[encoded data removed]",
      "text/plain": [
       "<Figure size 432x288 with 1 Axes>"
      ]
     },
     "metadata": {
      "needs_background": "light"
     },
     "output_type": "display_data"
    }
   ],
   "source": [
    "# Replacing with 75th percentile and taking log we get a better distribution\n",
    "df[\"Credit Score\"].fillna(741, inplace = True) \n",
    "\n",
    "sns.distplot(df[\"Credit Score\"]);"
   ]
  },
  {
   "cell_type": "code",
   "execution_count": 29,
   "id": "bec1b9e7",
   "metadata": {
    "scrolled": true
   },
   "outputs": [
    {
     "name": "stderr",
     "output_type": "stream",
     "text": [
      "C:\\Users\\oabas\\anaconda3\\lib\\site-packages\\seaborn\\distributions.py:2557: FutureWarning: `distplot` is a deprecated function and will be removed in a future version. Please adapt your code to use either `displot` (a figure-level function with similar flexibility) or `histplot` (an axes-level function for histograms).\n",
      "  warnings.warn(msg, FutureWarning)\n"
     ]
    },
    {
     "data": {
      "image/png": "[encoded data removed]",
      "text/plain": [
       "<Figure size 432x288 with 1 Axes>"
      ]
     },
     "metadata": {
      "needs_background": "light"
     },
     "output_type": "display_data"
    }
   ],
   "source": [
    "sns.distplot(np.log(df[\"Credit Score\"]));"
   ]
  },
  {
   "cell_type": "markdown",
   "id": "25f0f694",
   "metadata": {},
   "source": [
    "## Home Ownership"
   ]
  },
  {
   "cell_type": "code",
   "execution_count": 30,
   "id": "8ac0ffdf",
   "metadata": {},
   "outputs": [
    {
     "data": {
      "text/plain": [
       "array(['Rent', 'Home Mortgage', 'Own Home', 'HaveMortgage'], dtype=object)"
      ]
     },
     "execution_count": 30,
     "metadata": {},
     "output_type": "execute_result"
    }
   ],
   "source": [
    "df['Home Ownership'].unique()"
   ]
  },
  {
   "cell_type": "markdown",
   "id": "2ed81006",
   "metadata": {},
   "source": [
    "We have 4 unique values which makes no sense, cause we should only have 3 unique values 'Rent', 'HomeMortgage', 'Own Home'. As a result 'HaveMortgage' doesn't have any businees here, so we going to merge it with the 'HomeMortgage'"
   ]
  },
  {
   "cell_type": "code",
   "execution_count": 31,
   "id": "c03ecd84",
   "metadata": {},
   "outputs": [],
   "source": [
    "df['Home Ownership'] = df['Home Ownership'].str.replace('HaveMortgage', 'Home Mortgage', regex=True)"
   ]
  },
  {
   "cell_type": "code",
   "execution_count": 32,
   "id": "2b97ae6a",
   "metadata": {},
   "outputs": [
    {
     "data": {
      "text/plain": [
       "array(['Rent', 'Home Mortgage', 'Own Home'], dtype=object)"
      ]
     },
     "execution_count": 32,
     "metadata": {},
     "output_type": "execute_result"
    }
   ],
   "source": [
    "df['Home Ownership'].unique()"
   ]
  },
  {
   "cell_type": "markdown",
   "id": "40c65ae2",
   "metadata": {},
   "source": [
    "## Annual Income"
   ]
  },
  {
   "cell_type": "code",
   "execution_count": 33,
   "id": "5926e517",
   "metadata": {},
   "outputs": [
    {
     "data": {
      "text/plain": [
       "count    6.757200e+04\n",
       "mean     7.234575e+04\n",
       "std      5.836101e+04\n",
       "min      4.033000e+03\n",
       "25%      4.458600e+04\n",
       "50%      6.149400e+04\n",
       "75%      8.675025e+04\n",
       "max      8.713547e+06\n",
       "Name: Annual Income, dtype: float64"
      ]
     },
     "execution_count": 33,
     "metadata": {},
     "output_type": "execute_result"
    }
   ],
   "source": [
    "df['Annual Income'].describe()"
   ]
  },
  {
   "cell_type": "markdown",
   "id": "621ceb6c",
   "metadata": {},
   "source": [
    "Max value seems pretty high"
   ]
  },
  {
   "cell_type": "code",
   "execution_count": 34,
   "id": "e2445158",
   "metadata": {},
   "outputs": [
    {
     "data": {
      "text/plain": [
       "0.200     40764.00\n",
       "0.750     86750.25\n",
       "0.900    119916.00\n",
       "0.950    147645.00\n",
       "0.990    239286.96\n",
       "0.999    491575.77\n",
       "Name: Annual Income, dtype: float64"
      ]
     },
     "execution_count": 34,
     "metadata": {},
     "output_type": "execute_result"
    }
   ],
   "source": [
    "df['Annual Income'].quantile([.2,0.75,0.90,.95,0.99,.999])"
   ]
  },
  {
   "cell_type": "markdown",
   "id": "5fcaee49",
   "metadata": {},
   "source": [
    "As we can see the highest values was present in the 99th quantile of the data, which is an outlier. Lets replace them with the 95th percentile value which is 147645"
   ]
  },
  {
   "cell_type": "code",
   "execution_count": 35,
   "id": "1bee8950",
   "metadata": {},
   "outputs": [],
   "source": [
    "df.loc[df['Annual Income'] > 147645, 'Annual Income'] = 147645"
   ]
  },
  {
   "cell_type": "code",
   "execution_count": 36,
   "id": "4faba26a",
   "metadata": {},
   "outputs": [
    {
     "data": {
      "text/plain": [
       "count     67572.000000\n",
       "mean      71131.756615\n",
       "std       39199.679887\n",
       "min        4033.000000\n",
       "25%       44586.000000\n",
       "50%       61494.000000\n",
       "75%       86750.250000\n",
       "max      239287.000000\n",
       "Name: Annual Income, dtype: float64"
      ]
     },
     "execution_count": 36,
     "metadata": {},
     "output_type": "execute_result"
    }
   ],
   "source": [
    "df['Annual Income'].describe()"
   ]
  },
  {
   "cell_type": "code",
   "execution_count": 37,
   "id": "1fa0f252",
   "metadata": {},
   "outputs": [
    {
     "data": {
      "text/plain": [
       "21338"
      ]
     },
     "execution_count": 37,
     "metadata": {},
     "output_type": "execute_result"
    }
   ],
   "source": [
    "df['Annual Income'].isna().sum()"
   ]
  },
  {
   "cell_type": "markdown",
   "id": "6590c3b7",
   "metadata": {},
   "source": [
    "## Monthly Debt"
   ]
  },
  {
   "cell_type": "code",
   "execution_count": null,
   "id": "db2f6b8d",
   "metadata": {},
   "outputs": [],
   "source": []
  }
 ],
 "metadata": {
  "kernelspec": {
   "display_name": "Python 3",
   "language": "python",
   "name": "python3"
  },
  "language_info": {
   "codemirror_mode": {
    "name": "ipython",
    "version": 3
   },
   "file_extension": ".py",
   "mimetype": "text/x-python",
   "name": "python",
   "nbconvert_exporter": "python",
   "pygments_lexer": "ipython3",
   "version": "3.8.8"
  }
 },
 "nbformat": 4,
 "nbformat_minor": 5
}
