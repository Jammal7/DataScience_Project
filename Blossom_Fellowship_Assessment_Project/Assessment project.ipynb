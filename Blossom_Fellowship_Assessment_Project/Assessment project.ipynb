{
 "cells": [
  {
   "cell_type": "markdown",
   "metadata": {},
   "source": [
    "#  Project\n",
    "### Problem Statement\n",
    "\n",
    "In the year 2013, a supermarket decided to draw insight from their data in order to make data driven decisions.\n",
    "As a Data Analyst,you are presented with their 2013 daily sales records (sales_data.csv) and tasked to help them find answers to the questions below by analysing the data.\n",
    "\n",
    "1. i. What is the average sales and profit per market? \n",
    "\n",
    "   ii.Plot a stacked bar chart showing the sales and profit per market.\n",
    "   \n",
    "   iii.Which market brings more sales on the average?\n",
    "\n",
    "2. i. What are the best 10 performing products with regards to sales in 2013?\n",
    "\n",
    "   ii.What are the least 10 performing products with regards to sales 2013?\n",
    "\n",
    "\n",
    "3. i. Extract the days and months from the Order Date and add them to the data frame with the name \"Days\" and \"Months\" respectively?\n",
    "\n",
    "   ii.Show the trend of profit from January to December with a line plot.\n",
    "\n",
    "   iii. Which month does the company make more profit and what 5 products are sold most in that month?\n",
    "   iv.  which day does the company make high sales on the average?\n",
    "\n",
    "4. i. By analyzing the data, what is the correlation between sales and discount?\n",
    "\n",
    "   ii. Use a scatter plot to show the relationship between sales and profit.\n",
    "\n",
    "5. i. Plot a grouped bar chart showing the total profit for the different product category for each market.\n",
    "\n",
    "   ii. From your graph, which product category performs well in each market?\n",
    "   \n",
    "6. i. Which customer spent the most in the whole year?\n",
    "\n",
    "   ii. What product does the customer in (i) buy the most?\n",
    "   \n",
    "   iii. Which month did the customer spent the most?\n",
    "   \n",
    "   iv. How much did this customer spend in the whole year?\n",
    "   \n",
    "7. Can you do any other analysis to draw more insight? Feel free to do it.\n",
    "\n",
    "\n",
    "**Thank you**\n",
    "\n",
    "**GOOD LUCK!**\n",
    "\n",
    "\n",
    "\n"
   ]
  },
  {
   "cell_type": "code",
   "execution_count": 1,
   "metadata": {},
   "outputs": [],
   "source": [
    "# Use markdowns to write your answers or findings where necessary.\n",
    "# Use comments to exlain you codes where necessary \n",
    "# Remember to import the necessary packages"
   ]
  },
  {
   "cell_type": "markdown",
   "metadata": {},
   "source": [
    "### **NB**: To easily load the data, it's advisable you have the data and the notebook file  in the same folder"
   ]
  },
  {
   "cell_type": "code",
   "execution_count": 2,
   "metadata": {},
   "outputs": [],
   "source": [
    "#import your packages here\n",
    "import pandas as pd\n",
    "import numpy as np\n",
    "import seaborn as sns\n",
    "import matplotlib.pyplot as plt\n",
    "\n",
    "import warnings\n",
    "warnings.filterwarnings('ignore')"
   ]
  },
  {
   "cell_type": "code",
   "execution_count": 3,
   "metadata": {},
   "outputs": [
    {
     "data": {
      "text/html": [
       "<div>\n",
       "<style scoped>\n",
       "    .dataframe tbody tr th:only-of-type {\n",
       "        vertical-align: middle;\n",
       "    }\n",
       "\n",
       "    .dataframe tbody tr th {\n",
       "        vertical-align: top;\n",
       "    }\n",
       "\n",
       "    .dataframe thead th {\n",
       "        text-align: right;\n",
       "    }\n",
       "</style>\n",
       "<table border=\"1\" class=\"dataframe\">\n",
       "  <thead>\n",
       "    <tr style=\"text-align: right;\">\n",
       "      <th></th>\n",
       "      <th>Unnamed: 0</th>\n",
       "      <th>Order Date</th>\n",
       "      <th>Order ID</th>\n",
       "      <th>Customer ID</th>\n",
       "      <th>Customer Name</th>\n",
       "      <th>Segment</th>\n",
       "      <th>City</th>\n",
       "      <th>Market</th>\n",
       "      <th>Region</th>\n",
       "      <th>Category</th>\n",
       "      <th>Sub-Category</th>\n",
       "      <th>Product Name</th>\n",
       "      <th>Sales</th>\n",
       "      <th>Quantity</th>\n",
       "      <th>Discount</th>\n",
       "      <th>Profit</th>\n",
       "    </tr>\n",
       "  </thead>\n",
       "  <tbody>\n",
       "    <tr>\n",
       "      <th>0</th>\n",
       "      <td>0</td>\n",
       "      <td>2013-01-01</td>\n",
       "      <td>ID-2013-37383</td>\n",
       "      <td>MY-18295</td>\n",
       "      <td>Muhammed Yedwab</td>\n",
       "      <td>Corporate</td>\n",
       "      <td>Albury</td>\n",
       "      <td>APAC</td>\n",
       "      <td>Oceania</td>\n",
       "      <td>Technology</td>\n",
       "      <td>Copiers</td>\n",
       "      <td>Canon Copy Machine, Digital</td>\n",
       "      <td>1649.214</td>\n",
       "      <td>7</td>\n",
       "      <td>0.1</td>\n",
       "      <td>36.624</td>\n",
       "    </tr>\n",
       "    <tr>\n",
       "      <th>1</th>\n",
       "      <td>1</td>\n",
       "      <td>2013-01-01</td>\n",
       "      <td>IN-2013-47960</td>\n",
       "      <td>JE-15715</td>\n",
       "      <td>Joe Elijah</td>\n",
       "      <td>Consumer</td>\n",
       "      <td>Tianjin</td>\n",
       "      <td>APAC</td>\n",
       "      <td>North Asia</td>\n",
       "      <td>Furniture</td>\n",
       "      <td>Bookcases</td>\n",
       "      <td>Sauder Floating Shelf Set, Metal</td>\n",
       "      <td>1358.280</td>\n",
       "      <td>7</td>\n",
       "      <td>0.0</td>\n",
       "      <td>203.700</td>\n",
       "    </tr>\n",
       "    <tr>\n",
       "      <th>2</th>\n",
       "      <td>2</td>\n",
       "      <td>2013-01-01</td>\n",
       "      <td>ID-2013-37383</td>\n",
       "      <td>MY-18295</td>\n",
       "      <td>Muhammed Yedwab</td>\n",
       "      <td>Corporate</td>\n",
       "      <td>Albury</td>\n",
       "      <td>APAC</td>\n",
       "      <td>Oceania</td>\n",
       "      <td>Technology</td>\n",
       "      <td>Accessories</td>\n",
       "      <td>Logitech Memory Card, Erganomic</td>\n",
       "      <td>728.568</td>\n",
       "      <td>8</td>\n",
       "      <td>0.1</td>\n",
       "      <td>-32.472</td>\n",
       "    </tr>\n",
       "    <tr>\n",
       "      <th>3</th>\n",
       "      <td>3</td>\n",
       "      <td>2013-01-01</td>\n",
       "      <td>IN-2013-47960</td>\n",
       "      <td>JE-15715</td>\n",
       "      <td>Joe Elijah</td>\n",
       "      <td>Consumer</td>\n",
       "      <td>Tianjin</td>\n",
       "      <td>APAC</td>\n",
       "      <td>North Asia</td>\n",
       "      <td>Furniture</td>\n",
       "      <td>Bookcases</td>\n",
       "      <td>Dania Library with Doors, Mobile</td>\n",
       "      <td>2189.520</td>\n",
       "      <td>6</td>\n",
       "      <td>0.0</td>\n",
       "      <td>372.060</td>\n",
       "    </tr>\n",
       "    <tr>\n",
       "      <th>4</th>\n",
       "      <td>4</td>\n",
       "      <td>2013-01-01</td>\n",
       "      <td>IN-2013-47960</td>\n",
       "      <td>JE-15715</td>\n",
       "      <td>Joe Elijah</td>\n",
       "      <td>Consumer</td>\n",
       "      <td>Tianjin</td>\n",
       "      <td>APAC</td>\n",
       "      <td>North Asia</td>\n",
       "      <td>Furniture</td>\n",
       "      <td>Bookcases</td>\n",
       "      <td>Sauder Floating Shelf Set, Traditional</td>\n",
       "      <td>1362.060</td>\n",
       "      <td>7</td>\n",
       "      <td>0.0</td>\n",
       "      <td>340.410</td>\n",
       "    </tr>\n",
       "  </tbody>\n",
       "</table>\n",
       "</div>"
      ],
      "text/plain": [
       "   Unnamed: 0  Order Date       Order ID Customer ID    Customer Name  \\\n",
       "0           0  2013-01-01  ID-2013-37383    MY-18295  Muhammed Yedwab   \n",
       "1           1  2013-01-01  IN-2013-47960    JE-15715       Joe Elijah   \n",
       "2           2  2013-01-01  ID-2013-37383    MY-18295  Muhammed Yedwab   \n",
       "3           3  2013-01-01  IN-2013-47960    JE-15715       Joe Elijah   \n",
       "4           4  2013-01-01  IN-2013-47960    JE-15715       Joe Elijah   \n",
       "\n",
       "     Segment     City Market      Region    Category Sub-Category  \\\n",
       "0  Corporate   Albury   APAC     Oceania  Technology      Copiers   \n",
       "1   Consumer  Tianjin   APAC  North Asia   Furniture    Bookcases   \n",
       "2  Corporate   Albury   APAC     Oceania  Technology  Accessories   \n",
       "3   Consumer  Tianjin   APAC  North Asia   Furniture    Bookcases   \n",
       "4   Consumer  Tianjin   APAC  North Asia   Furniture    Bookcases   \n",
       "\n",
       "                             Product Name     Sales  Quantity  Discount  \\\n",
       "0             Canon Copy Machine, Digital  1649.214         7       0.1   \n",
       "1        Sauder Floating Shelf Set, Metal  1358.280         7       0.0   \n",
       "2         Logitech Memory Card, Erganomic   728.568         8       0.1   \n",
       "3        Dania Library with Doors, Mobile  2189.520         6       0.0   \n",
       "4  Sauder Floating Shelf Set, Traditional  1362.060         7       0.0   \n",
       "\n",
       "    Profit  \n",
       "0   36.624  \n",
       "1  203.700  \n",
       "2  -32.472  \n",
       "3  372.060  \n",
       "4  340.410  "
      ]
     },
     "execution_count": 3,
     "metadata": {},
     "output_type": "execute_result"
    }
   ],
   "source": [
    "# Load the sales data here\n",
    "df = pd.read_csv(\"sales_data.csv\")\n",
    "df.head()"
   ]
  },
  {
   "cell_type": "code",
   "execution_count": 4,
   "metadata": {},
   "outputs": [
    {
     "data": {
      "text/plain": [
       "Unnamed: 0       0\n",
       "Order Date       0\n",
       "Order ID         0\n",
       "Customer ID      0\n",
       "Customer Name    0\n",
       "Segment          0\n",
       "City             0\n",
       "Market           0\n",
       "Region           0\n",
       "Category         0\n",
       "Sub-Category     0\n",
       "Product Name     0\n",
       "Sales            0\n",
       "Quantity         0\n",
       "Discount         0\n",
       "Profit           0\n",
       "dtype: int64"
      ]
     },
     "execution_count": 4,
     "metadata": {},
     "output_type": "execute_result"
    }
   ],
   "source": [
    "# Checking for nulls\n",
    "df.isna().sum()"
   ]
  },
  {
   "cell_type": "code",
   "execution_count": 5,
   "metadata": {},
   "outputs": [
    {
     "data": {
      "text/plain": [
       "(13799, 16)"
      ]
     },
     "execution_count": 5,
     "metadata": {},
     "output_type": "execute_result"
    }
   ],
   "source": [
    "df.shape"
   ]
  },
  {
   "cell_type": "code",
   "execution_count": 6,
   "metadata": {},
   "outputs": [
    {
     "name": "stdout",
     "output_type": "stream",
     "text": [
      "<class 'pandas.core.frame.DataFrame'>\n",
      "RangeIndex: 13799 entries, 0 to 13798\n",
      "Data columns (total 16 columns):\n",
      " #   Column         Non-Null Count  Dtype  \n",
      "---  ------         --------------  -----  \n",
      " 0   Unnamed: 0     13799 non-null  int64  \n",
      " 1   Order Date     13799 non-null  object \n",
      " 2   Order ID       13799 non-null  object \n",
      " 3   Customer ID    13799 non-null  object \n",
      " 4   Customer Name  13799 non-null  object \n",
      " 5   Segment        13799 non-null  object \n",
      " 6   City           13799 non-null  object \n",
      " 7   Market         13799 non-null  object \n",
      " 8   Region         13799 non-null  object \n",
      " 9   Category       13799 non-null  object \n",
      " 10  Sub-Category   13799 non-null  object \n",
      " 11  Product Name   13799 non-null  object \n",
      " 12  Sales          13799 non-null  float64\n",
      " 13  Quantity       13799 non-null  int64  \n",
      " 14  Discount       13799 non-null  float64\n",
      " 15  Profit         13799 non-null  float64\n",
      "dtypes: float64(3), int64(2), object(11)\n",
      "memory usage: 1.7+ MB\n"
     ]
    }
   ],
   "source": [
    "df.info()"
   ]
  },
  {
   "cell_type": "code",
   "execution_count": 7,
   "metadata": {},
   "outputs": [
    {
     "name": "stdout",
     "output_type": "stream",
     "text": [
      "Unnamed: 0: 13799\n",
      "Order Date: 360\n",
      "Order ID: 6721\n",
      "Customer ID: 1458\n",
      "Customer Name: 795\n",
      "Segment: 3\n",
      "City: 2195\n",
      "Market: 7\n",
      "Region: 13\n",
      "Category: 3\n",
      "Sub-Category: 17\n",
      "Product Name: 3242\n",
      "Sales: 9389\n",
      "Quantity: 14\n",
      "Discount: 26\n",
      "Profit: 8970\n"
     ]
    }
   ],
   "source": [
    "# Unique Values\n",
    "obj_col = df.columns\n",
    "for col in obj_col:\n",
    "    print(\"{}: {}\".format(col,len(df[col].unique())))"
   ]
  },
  {
   "cell_type": "code",
   "execution_count": 8,
   "metadata": {},
   "outputs": [
    {
     "data": {
      "text/html": [
       "<div>\n",
       "<style scoped>\n",
       "    .dataframe tbody tr th:only-of-type {\n",
       "        vertical-align: middle;\n",
       "    }\n",
       "\n",
       "    .dataframe tbody tr th {\n",
       "        vertical-align: top;\n",
       "    }\n",
       "\n",
       "    .dataframe thead th {\n",
       "        text-align: right;\n",
       "    }\n",
       "</style>\n",
       "<table border=\"1\" class=\"dataframe\">\n",
       "  <thead>\n",
       "    <tr style=\"text-align: right;\">\n",
       "      <th></th>\n",
       "      <th>Order Date</th>\n",
       "      <th>Customer ID</th>\n",
       "      <th>Customer Name</th>\n",
       "      <th>Segment</th>\n",
       "      <th>City</th>\n",
       "      <th>Market</th>\n",
       "      <th>Region</th>\n",
       "      <th>Category</th>\n",
       "      <th>Sub-Category</th>\n",
       "      <th>Product Name</th>\n",
       "      <th>Sales</th>\n",
       "      <th>Quantity</th>\n",
       "      <th>Discount</th>\n",
       "      <th>Profit</th>\n",
       "    </tr>\n",
       "  </thead>\n",
       "  <tbody>\n",
       "    <tr>\n",
       "      <th>0</th>\n",
       "      <td>2013-01-01</td>\n",
       "      <td>MY-18295</td>\n",
       "      <td>Muhammed Yedwab</td>\n",
       "      <td>Corporate</td>\n",
       "      <td>Albury</td>\n",
       "      <td>APAC</td>\n",
       "      <td>Oceania</td>\n",
       "      <td>Technology</td>\n",
       "      <td>Copiers</td>\n",
       "      <td>Canon Copy Machine, Digital</td>\n",
       "      <td>1649.214</td>\n",
       "      <td>7</td>\n",
       "      <td>0.1</td>\n",
       "      <td>36.624</td>\n",
       "    </tr>\n",
       "    <tr>\n",
       "      <th>1</th>\n",
       "      <td>2013-01-01</td>\n",
       "      <td>JE-15715</td>\n",
       "      <td>Joe Elijah</td>\n",
       "      <td>Consumer</td>\n",
       "      <td>Tianjin</td>\n",
       "      <td>APAC</td>\n",
       "      <td>North Asia</td>\n",
       "      <td>Furniture</td>\n",
       "      <td>Bookcases</td>\n",
       "      <td>Sauder Floating Shelf Set, Metal</td>\n",
       "      <td>1358.280</td>\n",
       "      <td>7</td>\n",
       "      <td>0.0</td>\n",
       "      <td>203.700</td>\n",
       "    </tr>\n",
       "    <tr>\n",
       "      <th>2</th>\n",
       "      <td>2013-01-01</td>\n",
       "      <td>MY-18295</td>\n",
       "      <td>Muhammed Yedwab</td>\n",
       "      <td>Corporate</td>\n",
       "      <td>Albury</td>\n",
       "      <td>APAC</td>\n",
       "      <td>Oceania</td>\n",
       "      <td>Technology</td>\n",
       "      <td>Accessories</td>\n",
       "      <td>Logitech Memory Card, Erganomic</td>\n",
       "      <td>728.568</td>\n",
       "      <td>8</td>\n",
       "      <td>0.1</td>\n",
       "      <td>-32.472</td>\n",
       "    </tr>\n",
       "    <tr>\n",
       "      <th>3</th>\n",
       "      <td>2013-01-01</td>\n",
       "      <td>JE-15715</td>\n",
       "      <td>Joe Elijah</td>\n",
       "      <td>Consumer</td>\n",
       "      <td>Tianjin</td>\n",
       "      <td>APAC</td>\n",
       "      <td>North Asia</td>\n",
       "      <td>Furniture</td>\n",
       "      <td>Bookcases</td>\n",
       "      <td>Dania Library with Doors, Mobile</td>\n",
       "      <td>2189.520</td>\n",
       "      <td>6</td>\n",
       "      <td>0.0</td>\n",
       "      <td>372.060</td>\n",
       "    </tr>\n",
       "    <tr>\n",
       "      <th>4</th>\n",
       "      <td>2013-01-01</td>\n",
       "      <td>JE-15715</td>\n",
       "      <td>Joe Elijah</td>\n",
       "      <td>Consumer</td>\n",
       "      <td>Tianjin</td>\n",
       "      <td>APAC</td>\n",
       "      <td>North Asia</td>\n",
       "      <td>Furniture</td>\n",
       "      <td>Bookcases</td>\n",
       "      <td>Sauder Floating Shelf Set, Traditional</td>\n",
       "      <td>1362.060</td>\n",
       "      <td>7</td>\n",
       "      <td>0.0</td>\n",
       "      <td>340.410</td>\n",
       "    </tr>\n",
       "  </tbody>\n",
       "</table>\n",
       "</div>"
      ],
      "text/plain": [
       "   Order Date Customer ID    Customer Name    Segment     City Market  \\\n",
       "0  2013-01-01    MY-18295  Muhammed Yedwab  Corporate   Albury   APAC   \n",
       "1  2013-01-01    JE-15715       Joe Elijah   Consumer  Tianjin   APAC   \n",
       "2  2013-01-01    MY-18295  Muhammed Yedwab  Corporate   Albury   APAC   \n",
       "3  2013-01-01    JE-15715       Joe Elijah   Consumer  Tianjin   APAC   \n",
       "4  2013-01-01    JE-15715       Joe Elijah   Consumer  Tianjin   APAC   \n",
       "\n",
       "       Region    Category Sub-Category  \\\n",
       "0     Oceania  Technology      Copiers   \n",
       "1  North Asia   Furniture    Bookcases   \n",
       "2     Oceania  Technology  Accessories   \n",
       "3  North Asia   Furniture    Bookcases   \n",
       "4  North Asia   Furniture    Bookcases   \n",
       "\n",
       "                             Product Name     Sales  Quantity  Discount  \\\n",
       "0             Canon Copy Machine, Digital  1649.214         7       0.1   \n",
       "1        Sauder Floating Shelf Set, Metal  1358.280         7       0.0   \n",
       "2         Logitech Memory Card, Erganomic   728.568         8       0.1   \n",
       "3        Dania Library with Doors, Mobile  2189.520         6       0.0   \n",
       "4  Sauder Floating Shelf Set, Traditional  1362.060         7       0.0   \n",
       "\n",
       "    Profit  \n",
       "0   36.624  \n",
       "1  203.700  \n",
       "2  -32.472  \n",
       "3  372.060  \n",
       "4  340.410  "
      ]
     },
     "execution_count": 8,
     "metadata": {},
     "output_type": "execute_result"
    }
   ],
   "source": [
    "df = df.drop(columns=['Unnamed: 0', 'Order ID'])\n",
    "df.head()"
   ]
  },
  {
   "cell_type": "markdown",
   "metadata": {},
   "source": [
    "## 1. \n",
    "i. What is the average sales and profit per market? \n",
    "\n",
    "ii. Plot a stacked bar chart showing the sales and profit per market.\n",
    "\n",
    "iii. Which market brings more sales on the average?"
   ]
  },
  {
   "cell_type": "code",
   "execution_count": 18,
   "metadata": {},
   "outputs": [
    {
     "data": {
      "text/plain": [
       "Market\n",
       "Canada    48.391132\n",
       "APAC      42.596237\n",
       "EU        38.373754\n",
       "US        31.677105\n",
       "Africa    20.623734\n",
       "LATAM     20.070383\n",
       "EMEA       8.102479\n",
       "Name: Profit, dtype: float64"
      ]
     },
     "execution_count": 18,
     "metadata": {},
     "output_type": "execute_result"
    }
   ],
   "source": [
    "# 1. What is the average sales and profit per market?\n",
    "# a. Average Profit\n",
    "df.groupby('Market')['Profit'].mean().sort_values(ascending=False)"
   ]
  },
  {
   "cell_type": "code",
   "execution_count": 19,
   "metadata": {},
   "outputs": [
    {
     "data": {
      "text/plain": [
       "Market\n",
       "APAC      337.225210\n",
       "EU        297.415215\n",
       "US        235.842570\n",
       "LATAM     198.738815\n",
       "Canada    180.765566\n",
       "Africa    177.023796\n",
       "EMEA      156.453122\n",
       "Name: Sales, dtype: float64"
      ]
     },
     "execution_count": 19,
     "metadata": {},
     "output_type": "execute_result"
    }
   ],
   "source": [
    "# b. Average Sales\n",
    "df.groupby('Market')['Sales'].mean().sort_values(ascending=False)"
   ]
  },
  {
   "cell_type": "code",
   "execution_count": 20,
   "metadata": {},
   "outputs": [
    {
     "data": {
      "image/png": "[encoded data removed]",
      "text/plain": [
       "<Figure size 432x288 with 1 Axes>"
      ]
     },
     "metadata": {
      "needs_background": "light"
     },
     "output_type": "display_data"
    }
   ],
   "source": [
    "# ii. Plot a stacked bar chart showing the sales and profit per market.\n",
    "# a. Sales\n",
    "sns.barplot(x = 'Market', y = 'Sales', data = df);"
   ]
  },
  {
   "cell_type": "code",
   "execution_count": 21,
   "metadata": {},
   "outputs": [
    {
     "data": {
      "image/png": "[encoded data removed]",
      "text/plain": [
       "<Figure size 432x288 with 1 Axes>"
      ]
     },
     "metadata": {
      "needs_background": "light"
     },
     "output_type": "display_data"
    }
   ],
   "source": [
    "# a. Profit\n",
    "sns.barplot(x = 'Market', y = 'Profit', data = df);"
   ]
  },
  {
   "cell_type": "markdown",
   "metadata": {},
   "source": [
    "iii. Which market brings more sales on the average? \n",
    "The Market that brings in more sales on the average will be **APAC**"
   ]
  },
  {
   "cell_type": "markdown",
   "metadata": {},
   "source": [
    "## 2. \n",
    "i. What are the best 10 performing products with regards to sales in 2013?\n",
    "\n",
    "ii. What are the least 10 performing products with regards to sales 2013?"
   ]
  },
  {
   "cell_type": "code",
   "execution_count": 25,
   "metadata": {},
   "outputs": [],
   "source": [
    "# Grouping products by sales\n",
    "prod_sales = pd.DataFrame(df.groupby('Product Name').sum()['Sales'])"
   ]
  },
  {
   "cell_type": "code",
   "execution_count": 26,
   "metadata": {},
   "outputs": [
    {
     "data": {
      "text/html": [
       "<div>\n",
       "<style scoped>\n",
       "    .dataframe tbody tr th:only-of-type {\n",
       "        vertical-align: middle;\n",
       "    }\n",
       "\n",
       "    .dataframe tbody tr th {\n",
       "        vertical-align: top;\n",
       "    }\n",
       "\n",
       "    .dataframe thead th {\n",
       "        text-align: right;\n",
       "    }\n",
       "</style>\n",
       "<table border=\"1\" class=\"dataframe\">\n",
       "  <thead>\n",
       "    <tr style=\"text-align: right;\">\n",
       "      <th></th>\n",
       "      <th>Sales</th>\n",
       "    </tr>\n",
       "    <tr>\n",
       "      <th>Product Name</th>\n",
       "      <th></th>\n",
       "    </tr>\n",
       "  </thead>\n",
       "  <tbody>\n",
       "    <tr>\n",
       "      <th>Motorola Smart Phone, Full Size</th>\n",
       "      <td>29357.0982</td>\n",
       "    </tr>\n",
       "    <tr>\n",
       "      <th>Cisco Smart Phone, Full Size</th>\n",
       "      <td>26737.1330</td>\n",
       "    </tr>\n",
       "    <tr>\n",
       "      <th>Canon imageCLASS 2200 Advanced Copier</th>\n",
       "      <td>25899.9260</td>\n",
       "    </tr>\n",
       "    <tr>\n",
       "      <th>Harbour Creations Executive Leather Armchair, Adjustable</th>\n",
       "      <td>21871.1296</td>\n",
       "    </tr>\n",
       "    <tr>\n",
       "      <th>Apple Smart Phone, Full Size</th>\n",
       "      <td>21120.4080</td>\n",
       "    </tr>\n",
       "    <tr>\n",
       "      <th>Hon Executive Leather Armchair, Adjustable</th>\n",
       "      <td>20104.6026</td>\n",
       "    </tr>\n",
       "    <tr>\n",
       "      <th>Office Star Executive Leather Armchair, Adjustable</th>\n",
       "      <td>19936.1460</td>\n",
       "    </tr>\n",
       "    <tr>\n",
       "      <th>Nokia Smart Phone, with Caller ID</th>\n",
       "      <td>18568.8543</td>\n",
       "    </tr>\n",
       "    <tr>\n",
       "      <th>Samsung Smart Phone, VoIP</th>\n",
       "      <td>16733.1120</td>\n",
       "    </tr>\n",
       "    <tr>\n",
       "      <th>Nokia Smart Phone, Full Size</th>\n",
       "      <td>14765.8800</td>\n",
       "    </tr>\n",
       "  </tbody>\n",
       "</table>\n",
       "</div>"
      ],
      "text/plain": [
       "                                                         Sales\n",
       "Product Name                                                  \n",
       "Motorola Smart Phone, Full Size                     29357.0982\n",
       "Cisco Smart Phone, Full Size                        26737.1330\n",
       "Canon imageCLASS 2200 Advanced Copier               25899.9260\n",
       "Harbour Creations Executive Leather Armchair, A...  21871.1296\n",
       "Apple Smart Phone, Full Size                        21120.4080\n",
       "Hon Executive Leather Armchair, Adjustable          20104.6026\n",
       "Office Star Executive Leather Armchair, Adjustable  19936.1460\n",
       "Nokia Smart Phone, with Caller ID                   18568.8543\n",
       "Samsung Smart Phone, VoIP                           16733.1120\n",
       "Nokia Smart Phone, Full Size                        14765.8800"
      ]
     },
     "execution_count": 26,
     "metadata": {},
     "output_type": "execute_result"
    }
   ],
   "source": [
    "# i. What are the best 10 performing products with regards to sales in 2013?\n",
    "# Sorting the dataframe in descending order\n",
    "prod_sales.sort_values(by=['Sales'], inplace=True, ascending=False)\n",
    "\n",
    "# Top 10 products by sales\n",
    "prod_sales[:10]"
   ]
  },
  {
   "cell_type": "code",
   "execution_count": 24,
   "metadata": {},
   "outputs": [
    {
     "data": {
      "text/html": [
       "<div>\n",
       "<style scoped>\n",
       "    .dataframe tbody tr th:only-of-type {\n",
       "        vertical-align: middle;\n",
       "    }\n",
       "\n",
       "    .dataframe tbody tr th {\n",
       "        vertical-align: top;\n",
       "    }\n",
       "\n",
       "    .dataframe thead th {\n",
       "        text-align: right;\n",
       "    }\n",
       "</style>\n",
       "<table border=\"1\" class=\"dataframe\">\n",
       "  <thead>\n",
       "    <tr style=\"text-align: right;\">\n",
       "      <th></th>\n",
       "      <th>Sales</th>\n",
       "    </tr>\n",
       "    <tr>\n",
       "      <th>Product Name</th>\n",
       "      <th></th>\n",
       "    </tr>\n",
       "  </thead>\n",
       "  <tbody>\n",
       "    <tr>\n",
       "      <th>Newell 310</th>\n",
       "      <td>1.408</td>\n",
       "    </tr>\n",
       "    <tr>\n",
       "      <th>OIC #2 Pencils, Medium Soft</th>\n",
       "      <td>1.504</td>\n",
       "    </tr>\n",
       "    <tr>\n",
       "      <th>Avery Durable Binders</th>\n",
       "      <td>1.728</td>\n",
       "    </tr>\n",
       "    <tr>\n",
       "      <th>Maxell 4.7GB DVD+R 5/Pack</th>\n",
       "      <td>1.980</td>\n",
       "    </tr>\n",
       "    <tr>\n",
       "      <th>Acco Banker's Clasps, 5 3/4\"-Long</th>\n",
       "      <td>2.304</td>\n",
       "    </tr>\n",
       "    <tr>\n",
       "      <th>Avery 479</th>\n",
       "      <td>2.610</td>\n",
       "    </tr>\n",
       "    <tr>\n",
       "      <th>Acco 3-Hole Punch</th>\n",
       "      <td>2.628</td>\n",
       "    </tr>\n",
       "    <tr>\n",
       "      <th>Eldon Spacemaker Box, Quick-Snap Lid, Clear</th>\n",
       "      <td>2.672</td>\n",
       "    </tr>\n",
       "    <tr>\n",
       "      <th>Newell 32</th>\n",
       "      <td>2.880</td>\n",
       "    </tr>\n",
       "    <tr>\n",
       "      <th>Crayola Anti Dust Chalk, 12/Pack</th>\n",
       "      <td>2.912</td>\n",
       "    </tr>\n",
       "  </tbody>\n",
       "</table>\n",
       "</div>"
      ],
      "text/plain": [
       "                                             Sales\n",
       "Product Name                                      \n",
       "Newell 310                                   1.408\n",
       "OIC #2 Pencils, Medium Soft                  1.504\n",
       "Avery Durable Binders                        1.728\n",
       "Maxell 4.7GB DVD+R 5/Pack                    1.980\n",
       "Acco Banker's Clasps, 5 3/4\"-Long            2.304\n",
       "Avery 479                                    2.610\n",
       "Acco 3-Hole Punch                            2.628\n",
       "Eldon Spacemaker Box, Quick-Snap Lid, Clear  2.672\n",
       "Newell 32                                    2.880\n",
       "Crayola Anti Dust Chalk, 12/Pack             2.912"
      ]
     },
     "execution_count": 24,
     "metadata": {},
     "output_type": "execute_result"
    }
   ],
   "source": [
    "# ii. What are the least 10 performing products with regards to sales 2013?\n",
    "# Sorting the dataframe in ascending order\n",
    "prod_sales.sort_values(by=['Sales'], inplace=True, ascending=True)\n",
    "\n",
    "# Top 10 products by sales\n",
    "prod_sales[:10]"
   ]
  },
  {
   "cell_type": "markdown",
   "metadata": {},
   "source": [
    "## 3. \n",
    "i. Extract the days and months from the Order Date and add them to the data frame with the name \"Days\" and \"Months\" respectively?\n",
    "\n",
    "ii. Show the trend of profit from January to December with a line plot.\n",
    "\n",
    "iii. Which month does the company make more profit and what 5 products are sold most in that month?\n",
    "\n",
    "iv.  which day does the company make high sales on the average?"
   ]
  },
  {
   "cell_type": "code",
   "execution_count": null,
   "metadata": {},
   "outputs": [],
   "source": []
  },
  {
   "cell_type": "code",
   "execution_count": null,
   "metadata": {},
   "outputs": [],
   "source": []
  },
  {
   "cell_type": "code",
   "execution_count": null,
   "metadata": {},
   "outputs": [],
   "source": []
  },
  {
   "cell_type": "code",
   "execution_count": null,
   "metadata": {},
   "outputs": [],
   "source": []
  },
  {
   "cell_type": "code",
   "execution_count": null,
   "metadata": {},
   "outputs": [],
   "source": []
  },
  {
   "cell_type": "code",
   "execution_count": null,
   "metadata": {},
   "outputs": [],
   "source": []
  },
  {
   "cell_type": "code",
   "execution_count": null,
   "metadata": {},
   "outputs": [],
   "source": []
  },
  {
   "cell_type": "code",
   "execution_count": null,
   "metadata": {},
   "outputs": [],
   "source": []
  },
  {
   "cell_type": "markdown",
   "metadata": {},
   "source": [
    "## 4. \n",
    "i. By analyzing the data, what is the correlation between sales and discount?\n",
    "\n",
    "ii. Use a scatter plot to show the relationship between sales and profit."
   ]
  },
  {
   "cell_type": "code",
   "execution_count": null,
   "metadata": {},
   "outputs": [],
   "source": []
  },
  {
   "cell_type": "code",
   "execution_count": null,
   "metadata": {},
   "outputs": [],
   "source": []
  },
  {
   "cell_type": "code",
   "execution_count": null,
   "metadata": {},
   "outputs": [],
   "source": []
  },
  {
   "cell_type": "code",
   "execution_count": null,
   "metadata": {},
   "outputs": [],
   "source": []
  },
  {
   "cell_type": "markdown",
   "metadata": {},
   "source": [
    "## 5. \n",
    "i. Plot a grouped bar chart showing the total profit for the different product category for each market.\n",
    "\n",
    "ii. From your graph, which product category performs well in each market?"
   ]
  },
  {
   "cell_type": "code",
   "execution_count": null,
   "metadata": {},
   "outputs": [],
   "source": []
  },
  {
   "cell_type": "code",
   "execution_count": null,
   "metadata": {},
   "outputs": [],
   "source": []
  },
  {
   "cell_type": "code",
   "execution_count": null,
   "metadata": {},
   "outputs": [],
   "source": []
  },
  {
   "cell_type": "code",
   "execution_count": null,
   "metadata": {},
   "outputs": [],
   "source": []
  },
  {
   "cell_type": "code",
   "execution_count": null,
   "metadata": {},
   "outputs": [],
   "source": []
  },
  {
   "cell_type": "markdown",
   "metadata": {},
   "source": [
    "## 6. \n",
    "i. Which customer spent the most in the whole year?\n",
    "\n",
    "ii. What product does the customer in (i) buy the most?\n",
    "   \n",
    "iii. Which month did the customer spent the most?\n",
    "   \n",
    "iv. How much did this customer spend in the whole year?"
   ]
  },
  {
   "cell_type": "code",
   "execution_count": null,
   "metadata": {},
   "outputs": [],
   "source": []
  },
  {
   "cell_type": "code",
   "execution_count": null,
   "metadata": {},
   "outputs": [],
   "source": []
  },
  {
   "cell_type": "code",
   "execution_count": null,
   "metadata": {},
   "outputs": [],
   "source": []
  },
  {
   "cell_type": "code",
   "execution_count": null,
   "metadata": {},
   "outputs": [],
   "source": []
  },
  {
   "cell_type": "code",
   "execution_count": null,
   "metadata": {},
   "outputs": [],
   "source": []
  },
  {
   "cell_type": "code",
   "execution_count": null,
   "metadata": {},
   "outputs": [],
   "source": []
  },
  {
   "cell_type": "code",
   "execution_count": null,
   "metadata": {},
   "outputs": [],
   "source": []
  },
  {
   "cell_type": "code",
   "execution_count": null,
   "metadata": {},
   "outputs": [],
   "source": []
  },
  {
   "cell_type": "code",
   "execution_count": null,
   "metadata": {},
   "outputs": [],
   "source": []
  },
  {
   "cell_type": "code",
   "execution_count": null,
   "metadata": {},
   "outputs": [],
   "source": []
  }
 ],
 "metadata": {
  "kernelspec": {
   "display_name": "Python 3",
   "language": "python",
   "name": "python3"
  },
  "language_info": {
   "codemirror_mode": {
    "name": "ipython",
    "version": 3
   },
   "file_extension": ".py",
   "mimetype": "text/x-python",
   "name": "python",
   "nbconvert_exporter": "python",
   "pygments_lexer": "ipython3",
   "version": "3.8.8"
  }
 },
 "nbformat": 4,
 "nbformat_minor": 4
}
