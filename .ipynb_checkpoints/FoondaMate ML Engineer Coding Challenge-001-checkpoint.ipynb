{
 "cells": [
  {
   "cell_type": "markdown",
   "id": "0f1b952d-b3fc-47a7-ac46-cf92dc6d1043",
   "metadata": {},
   "source": [
    "# Background\n",
    "1. Assume Marry, a college student adviser helps students solve timetable clashes over email.\n",
    "2. Assume Marry is so helpful that students want to share her email address with their friends.\n",
    "3. To ensure students know they can share her email address, Marry has updated her signature to say, “If you found this conversation helpful, feel free to share my email address with your friends”.\n",
    "4. With the updated signature, Marry now gets about 250 emails from students a week either asking if they can share her email address with other students, or saying they’ve shared her email address with other students.\n",
    "5. Most the emails Marry gets are unpunctuated one liners, like the below:\n",
    "* \"Can I share your email\"\n",
    "* \"I will share your email\"\n",
    "* \"I shall share your email\"\n",
    "* \"I've shared your email\"\n",
    "* \"May I share your email\"\n",
    "* \"Should I share your email\"\n",
    "* \"I already shared the email\"\n",
    "* \"I've just shared your email\"\n",
    "* \"Am I allowed to share your email\"\n",
    "* \"Am I able to share your email\"\n",
    "* \"I am able to share your email\"\n",
    "* \"Will you help my friends if I share your email with them?\"\n",
    "6. Marry has asked the college’s IT department to help her find or build some kind of filter that labels emails of this kind as either:\n",
    "* “Student has shared”\n",
    "* “Student wants to know if can share”\n",
    "\n",
    "# Task\n",
    "1. Use any programming language to build a function that when passed a sentence with the stem “share” and the word “email” says if the sentence falls more under\n",
    "* “Student has shared” or\n",
    "* “Student wants to know if can share”\n",
    "2. Write tests for your function.\n",
    "3. Write a Readme.md in your repo on how your function works and how one can go about setting up the code locally in order to run your function/in order to use your function in their code."
   ]
  },
  {
   "cell_type": "code",
   "execution_count": 8,
   "id": "428991e8",
   "metadata": {},
   "outputs": [
    {
     "name": "stdout",
     "output_type": "stream",
     "text": [
      "If you found this conversation helpful, feel free to share my email address with your friends\n"
     ]
    },
    {
     "name": "stdin",
     "output_type": "stream",
     "text": [
      "Enter Text:  Will you help my friends if I share your email with them?\n"
     ]
    },
    {
     "data": {
      "text/plain": [
       "'Student wants to know if can share'"
      ]
     },
     "execution_count": 8,
     "metadata": {},
     "output_type": "execute_result"
    }
   ],
   "source": [
    "print('If you found this conversation helpful, feel free to share my email address with your friends')\n",
    "user = input('Enter Text: ')\n",
    "\n",
    "def sentence(user):\n",
    "    words = user.split(\" \")\n",
    "    isShare = False\n",
    "    isShared = False\n",
    "    isEmailPrent = False\n",
    "    for word in words:\n",
    "        if 'share' == word.strip().lower():\n",
    "            isShare = True\n",
    "        elif 'shared' == word.strip().lower():\n",
    "            isShared = True\n",
    "        elif 'email' == word.strip().lower():\n",
    "            isEmailPresent = True\n",
    "            \n",
    "    if isEmailPresent:\n",
    "        if isShare:\n",
    "            return 'Student wants to know if can share'\n",
    "        else:\n",
    "            return 'Student has shared'\n",
    "    else:\n",
    "        return 'NAN'\n",
    "\n",
    "sentence(user)            "
   ]
  },
  {
   "cell_type": "code",
   "execution_count": null,
   "id": "cd5a4c67",
   "metadata": {},
   "outputs": [],
   "source": []
  }
 ],
 "metadata": {
  "kernelspec": {
   "display_name": "Python 3",
   "language": "python",
   "name": "python3"
  },
  "language_info": {
   "codemirror_mode": {
    "name": "ipython",
    "version": 3
   },
   "file_extension": ".py",
   "mimetype": "text/x-python",
   "name": "python",
   "nbconvert_exporter": "python",
   "pygments_lexer": "ipython3",
   "version": "3.8.8"
  }
 },
 "nbformat": 4,
 "nbformat_minor": 5
}
